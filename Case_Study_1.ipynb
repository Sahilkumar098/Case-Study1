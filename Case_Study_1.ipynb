{
  "nbformat": 4,
  "nbformat_minor": 0,
  "metadata": {
    "colab": {
      "name": "Case_Study_1.ipynb",
      "provenance": [],
      "collapsed_sections": [],
      "toc_visible": true,
      "authorship_tag": "ABX9TyMOBxDiZamkf/Tb71YSCpgb",
      "include_colab_link": true
    },
    "kernelspec": {
      "name": "python3",
      "display_name": "Python 3"
    }
  },
  "cells": [
    {
      "cell_type": "markdown",
      "metadata": {
        "id": "view-in-github",
        "colab_type": "text"
      },
      "source": [
        "<a href=\"https://colab.research.google.com/github/Sahilkumar098/Case-Study1/blob/master/Case_Study_1.ipynb\" target=\"_parent\"><img src=\"https://colab.research.google.com/assets/colab-badge.svg\" alt=\"Open In Colab\"/></a>"
      ]
    },
    {
      "cell_type": "code",
      "metadata": {
        "id": "jyW0-nJgmt5t",
        "colab_type": "code",
        "colab": {}
      },
      "source": [
        "import pandas as pd\n",
        "import numpy as np\n",
        "import matplotlib.pyplot as plt"
      ],
      "execution_count": 0,
      "outputs": []
    },
    {
      "cell_type": "markdown",
      "metadata": {
        "id": "BcEKsXhUNY6v",
        "colab_type": "text"
      },
      "source": [
        "The files for the case Study were uploaded on the github in order to avoid uploading all file everytime the kernel is restarted. The Below cell is used to clone the entire repository and make the file available for anaylsis.\n",
        "**The Link to repository is:** \n",
        "github.com/Sahilkumar098/Case-Study1"
      ]
    },
    {
      "cell_type": "code",
      "metadata": {
        "id": "tfVbx-LSmuzu",
        "colab_type": "code",
        "outputId": "73be2c3d-39e3-4dac-9226-d381ed46c068",
        "colab": {
          "base_uri": "https://localhost:8080/",
          "height": 180
        }
      },
      "source": [
        "# Clone the entire repo.\n",
        "!git clone -l -s git://github.com/Sahilkumar098/Case-Study1.git Case_Study-1\n",
        "%cd Case_Study-1\n",
        "!ls"
      ],
      "execution_count": 140,
      "outputs": [
        {
          "output_type": "stream",
          "text": [
            "Cloning into 'Case_Study-1'...\n",
            "warning: --local is ignored\n",
            "remote: Enumerating objects: 11, done.\u001b[K\n",
            "remote: Counting objects:   9% (1/11)\u001b[K\rremote: Counting objects:  18% (2/11)\u001b[K\rremote: Counting objects:  27% (3/11)\u001b[K\rremote: Counting objects:  36% (4/11)\u001b[K\rremote: Counting objects:  45% (5/11)\u001b[K\rremote: Counting objects:  54% (6/11)\u001b[K\rremote: Counting objects:  63% (7/11)\u001b[K\rremote: Counting objects:  72% (8/11)\u001b[K\rremote: Counting objects:  81% (9/11)\u001b[K\rremote: Counting objects:  90% (10/11)\u001b[K\rremote: Counting objects: 100% (11/11)\u001b[K\rremote: Counting objects: 100% (11/11), done.\u001b[K\n",
            "remote: Compressing objects: 100% (9/9), done.\u001b[K\n",
            "remote: Total 11 (delta 1), reused 0 (delta 0), pack-reused 0\u001b[K\n",
            "Receiving objects: 100% (11/11), 5.93 MiB | 9.16 MiB/s, done.\n",
            "Resolving deltas: 100% (1/1), done.\n",
            "/content/Case_Study-1/Case_Study-1/Case_Study-1\n",
            " companies.txt\t'mapping - mapping.csv'   README.md  'rounds2 - rounds2.csv'\n"
          ],
          "name": "stdout"
        }
      ]
    },
    {
      "cell_type": "markdown",
      "metadata": {
        "id": "KFkdHn4VQu88",
        "colab_type": "text"
      },
      "source": [
        "The files are read and converted to dataFrame: **mapping, rounds2, company**.\n",
        "\n",
        "The company.txt file contained space seperated data rather than a default comma(','). The python engine was used because it is more efficient than c engine for large files in general and is also more feature complete. "
      ]
    },
    {
      "cell_type": "code",
      "metadata": {
        "id": "i1Pyc9ltmuyR",
        "colab_type": "code",
        "colab": {}
      },
      "source": [
        "mapping=pd.read_csv('/content/Case_Study-1/mapping - mapping.csv',engine='python')\n",
        "rounds2=pd.read_csv('/content/Case_Study-1/rounds2 - rounds2.csv',engine='python')\n",
        "company=pd.read_csv('/content/Case_Study-1/companies.txt',sep='\\t',engine='python')        "
      ],
      "execution_count": 0,
      "outputs": []
    },
    {
      "cell_type": "markdown",
      "metadata": {
        "id": "sBOAGFcZV4Wt",
        "colab_type": "text"
      },
      "source": [
        "Here in **company** dataframe there are few replacement characters which are shown as �."
      ]
    },
    {
      "cell_type": "code",
      "metadata": {
        "id": "1LLMVaNRvy9v",
        "colab_type": "code",
        "outputId": "88c9c321-6e5d-483f-a548-fd7506e5c2be",
        "colab": {
          "base_uri": "https://localhost:8080/",
          "height": 553
        }
      },
      "source": [
        "company"
      ],
      "execution_count": 142,
      "outputs": [
        {
          "output_type": "execute_result",
          "data": {
            "text/html": [
              "<div>\n",
              "<style scoped>\n",
              "    .dataframe tbody tr th:only-of-type {\n",
              "        vertical-align: middle;\n",
              "    }\n",
              "\n",
              "    .dataframe tbody tr th {\n",
              "        vertical-align: top;\n",
              "    }\n",
              "\n",
              "    .dataframe thead th {\n",
              "        text-align: right;\n",
              "    }\n",
              "</style>\n",
              "<table border=\"1\" class=\"dataframe\">\n",
              "  <thead>\n",
              "    <tr style=\"text-align: right;\">\n",
              "      <th></th>\n",
              "      <th>permalink</th>\n",
              "      <th>name</th>\n",
              "      <th>homepage_url</th>\n",
              "      <th>category_list</th>\n",
              "      <th>status</th>\n",
              "      <th>country_code</th>\n",
              "      <th>state_code</th>\n",
              "      <th>region</th>\n",
              "      <th>city</th>\n",
              "      <th>founded_at</th>\n",
              "    </tr>\n",
              "  </thead>\n",
              "  <tbody>\n",
              "    <tr>\n",
              "      <th>0</th>\n",
              "      <td>/Organization/-Fame</td>\n",
              "      <td>#fame</td>\n",
              "      <td>http://livfame.com</td>\n",
              "      <td>Media</td>\n",
              "      <td>operating</td>\n",
              "      <td>IND</td>\n",
              "      <td>16</td>\n",
              "      <td>Mumbai</td>\n",
              "      <td>Mumbai</td>\n",
              "      <td>NaN</td>\n",
              "    </tr>\n",
              "    <tr>\n",
              "      <th>1</th>\n",
              "      <td>/Organization/-Qounter</td>\n",
              "      <td>:Qounter</td>\n",
              "      <td>http://www.qounter.com</td>\n",
              "      <td>Application Platforms|Real Time|Social Network...</td>\n",
              "      <td>operating</td>\n",
              "      <td>USA</td>\n",
              "      <td>DE</td>\n",
              "      <td>DE - Other</td>\n",
              "      <td>Delaware City</td>\n",
              "      <td>04-09-2014</td>\n",
              "    </tr>\n",
              "    <tr>\n",
              "      <th>2</th>\n",
              "      <td>/Organization/-The-One-Of-Them-Inc-</td>\n",
              "      <td>(THE) ONE of THEM,Inc.</td>\n",
              "      <td>http://oneofthem.jp</td>\n",
              "      <td>Apps|Games|Mobile</td>\n",
              "      <td>operating</td>\n",
              "      <td>NaN</td>\n",
              "      <td>NaN</td>\n",
              "      <td>NaN</td>\n",
              "      <td>NaN</td>\n",
              "      <td>NaN</td>\n",
              "    </tr>\n",
              "    <tr>\n",
              "      <th>3</th>\n",
              "      <td>/Organization/0-6-Com</td>\n",
              "      <td>0-6.com</td>\n",
              "      <td>http://www.0-6.com</td>\n",
              "      <td>Curated Web</td>\n",
              "      <td>operating</td>\n",
              "      <td>CHN</td>\n",
              "      <td>22</td>\n",
              "      <td>Beijing</td>\n",
              "      <td>Beijing</td>\n",
              "      <td>01-01-2007</td>\n",
              "    </tr>\n",
              "    <tr>\n",
              "      <th>4</th>\n",
              "      <td>/Organization/004-Technologies</td>\n",
              "      <td>004 Technologies</td>\n",
              "      <td>http://004gmbh.de/en/004-interact</td>\n",
              "      <td>Software</td>\n",
              "      <td>operating</td>\n",
              "      <td>USA</td>\n",
              "      <td>IL</td>\n",
              "      <td>Springfield, Illinois</td>\n",
              "      <td>Champaign</td>\n",
              "      <td>01-01-2010</td>\n",
              "    </tr>\n",
              "    <tr>\n",
              "      <th>...</th>\n",
              "      <td>...</td>\n",
              "      <td>...</td>\n",
              "      <td>...</td>\n",
              "      <td>...</td>\n",
              "      <td>...</td>\n",
              "      <td>...</td>\n",
              "      <td>...</td>\n",
              "      <td>...</td>\n",
              "      <td>...</td>\n",
              "      <td>...</td>\n",
              "    </tr>\n",
              "    <tr>\n",
              "      <th>66363</th>\n",
              "      <td>/Organization/Zznode-Science-And-Technology-Co...</td>\n",
              "      <td>ZZNode Science and Technology</td>\n",
              "      <td>http://www.zznode.com</td>\n",
              "      <td>Enterprise Software</td>\n",
              "      <td>operating</td>\n",
              "      <td>CHN</td>\n",
              "      <td>22</td>\n",
              "      <td>Beijing</td>\n",
              "      <td>Beijing</td>\n",
              "      <td>NaN</td>\n",
              "    </tr>\n",
              "    <tr>\n",
              "      <th>66364</th>\n",
              "      <td>/Organization/Zzzzapp-Com</td>\n",
              "      <td>Zzzzapp Wireless ltd.</td>\n",
              "      <td>http://www.zzzzapp.com</td>\n",
              "      <td>Advertising|Mobile|Web Development|Wireless</td>\n",
              "      <td>operating</td>\n",
              "      <td>HRV</td>\n",
              "      <td>15</td>\n",
              "      <td>Split</td>\n",
              "      <td>Split</td>\n",
              "      <td>13-05-2012</td>\n",
              "    </tr>\n",
              "    <tr>\n",
              "      <th>66365</th>\n",
              "      <td>/Organization/ÁEron</td>\n",
              "      <td>ÁERON</td>\n",
              "      <td>http://www.aeron.hu/</td>\n",
              "      <td>NaN</td>\n",
              "      <td>operating</td>\n",
              "      <td>NaN</td>\n",
              "      <td>NaN</td>\n",
              "      <td>NaN</td>\n",
              "      <td>NaN</td>\n",
              "      <td>01-01-2011</td>\n",
              "    </tr>\n",
              "    <tr>\n",
              "      <th>66366</th>\n",
              "      <td>/Organization/ÔAsys-2</td>\n",
              "      <td>Ôasys</td>\n",
              "      <td>http://www.oasys.io/</td>\n",
              "      <td>Consumer Electronics|Internet of Things|Teleco...</td>\n",
              "      <td>operating</td>\n",
              "      <td>USA</td>\n",
              "      <td>CA</td>\n",
              "      <td>SF Bay Area</td>\n",
              "      <td>San Francisco</td>\n",
              "      <td>01-01-2014</td>\n",
              "    </tr>\n",
              "    <tr>\n",
              "      <th>66367</th>\n",
              "      <td>/Organization/İNovatiff-Reklam-Ve-Tan�T�M-Hizm...</td>\n",
              "      <td>İnovatiff Reklam ve Tanıtım Hizmetleri Tic</td>\n",
              "      <td>http://inovatiff.com</td>\n",
              "      <td>Consumer Goods|E-Commerce|Internet</td>\n",
              "      <td>operating</td>\n",
              "      <td>NaN</td>\n",
              "      <td>NaN</td>\n",
              "      <td>NaN</td>\n",
              "      <td>NaN</td>\n",
              "      <td>NaN</td>\n",
              "    </tr>\n",
              "  </tbody>\n",
              "</table>\n",
              "<p>66368 rows × 10 columns</p>\n",
              "</div>"
            ],
            "text/plain": [
              "                                               permalink  ...  founded_at\n",
              "0                                    /Organization/-Fame  ...         NaN\n",
              "1                                 /Organization/-Qounter  ...  04-09-2014\n",
              "2                    /Organization/-The-One-Of-Them-Inc-  ...         NaN\n",
              "3                                  /Organization/0-6-Com  ...  01-01-2007\n",
              "4                         /Organization/004-Technologies  ...  01-01-2010\n",
              "...                                                  ...  ...         ...\n",
              "66363  /Organization/Zznode-Science-And-Technology-Co...  ...         NaN\n",
              "66364                          /Organization/Zzzzapp-Com  ...  13-05-2012\n",
              "66365                                /Organization/ÁEron  ...  01-01-2011\n",
              "66366                              /Organization/ÔAsys-2  ...  01-01-2014\n",
              "66367  /Organization/İNovatiff-Reklam-Ve-Tan�T�M-Hizm...  ...         NaN\n",
              "\n",
              "[66368 rows x 10 columns]"
            ]
          },
          "metadata": {
            "tags": []
          },
          "execution_count": 142
        }
      ]
    },
    {
      "cell_type": "markdown",
      "metadata": {
        "id": "uwyK1tY3gpe1",
        "colab_type": "text"
      },
      "source": [
        "# **CheckPoint 1:** _$Data$ $Cleaning_1$_"
      ]
    },
    {
      "cell_type": "code",
      "metadata": {
        "id": "DY8xPL9KfH5R",
        "colab_type": "code",
        "outputId": "195e0f0e-8bb6-4eea-a67d-5aec7fd6f6d8",
        "colab": {
          "base_uri": "https://localhost:8080/",
          "height": 33
        }
      },
      "source": [
        "print(company.shape, rounds2.shape, mapping.shape)"
      ],
      "execution_count": 143,
      "outputs": [
        {
          "output_type": "stream",
          "text": [
            "(66368, 10) (114949, 6) (688, 10)\n"
          ],
          "name": "stdout"
        }
      ]
    },
    {
      "cell_type": "markdown",
      "metadata": {
        "id": "wPhMLmJjy7vH",
        "colab_type": "text"
      },
      "source": [
        "If you look at the **Row 66365-67 in company** and **114946-48 in rounds2's rows** you can clearly see that their the values have been tampered with or been corrupted."
      ]
    },
    {
      "cell_type": "code",
      "metadata": {
        "id": "PrE7RHHTYP56",
        "colab_type": "code",
        "outputId": "58ad3bba-eeee-4ac1-bf5c-df0a313ef715",
        "colab": {
          "base_uri": "https://localhost:8080/",
          "height": 553
        }
      },
      "source": [
        "rounds2"
      ],
      "execution_count": 144,
      "outputs": [
        {
          "output_type": "execute_result",
          "data": {
            "text/html": [
              "<div>\n",
              "<style scoped>\n",
              "    .dataframe tbody tr th:only-of-type {\n",
              "        vertical-align: middle;\n",
              "    }\n",
              "\n",
              "    .dataframe tbody tr th {\n",
              "        vertical-align: top;\n",
              "    }\n",
              "\n",
              "    .dataframe thead th {\n",
              "        text-align: right;\n",
              "    }\n",
              "</style>\n",
              "<table border=\"1\" class=\"dataframe\">\n",
              "  <thead>\n",
              "    <tr style=\"text-align: right;\">\n",
              "      <th></th>\n",
              "      <th>company_permalink</th>\n",
              "      <th>funding_round_permalink</th>\n",
              "      <th>funding_round_type</th>\n",
              "      <th>funding_round_code</th>\n",
              "      <th>funded_at</th>\n",
              "      <th>raised_amount_usd</th>\n",
              "    </tr>\n",
              "  </thead>\n",
              "  <tbody>\n",
              "    <tr>\n",
              "      <th>0</th>\n",
              "      <td>/organization/-fame</td>\n",
              "      <td>/funding-round/9a01d05418af9f794eebff7ace91f638</td>\n",
              "      <td>venture</td>\n",
              "      <td>B</td>\n",
              "      <td>05-01-2015</td>\n",
              "      <td>10000000.0</td>\n",
              "    </tr>\n",
              "    <tr>\n",
              "      <th>1</th>\n",
              "      <td>/ORGANIZATION/-QOUNTER</td>\n",
              "      <td>/funding-round/22dacff496eb7acb2b901dec1dfe5633</td>\n",
              "      <td>venture</td>\n",
              "      <td>A</td>\n",
              "      <td>14-10-2014</td>\n",
              "      <td>NaN</td>\n",
              "    </tr>\n",
              "    <tr>\n",
              "      <th>2</th>\n",
              "      <td>/organization/-qounter</td>\n",
              "      <td>/funding-round/b44fbb94153f6cdef13083530bb48030</td>\n",
              "      <td>seed</td>\n",
              "      <td>NaN</td>\n",
              "      <td>01-03-2014</td>\n",
              "      <td>700000.0</td>\n",
              "    </tr>\n",
              "    <tr>\n",
              "      <th>3</th>\n",
              "      <td>/ORGANIZATION/-THE-ONE-OF-THEM-INC-</td>\n",
              "      <td>/funding-round/650b8f704416801069bb178a1418776b</td>\n",
              "      <td>venture</td>\n",
              "      <td>B</td>\n",
              "      <td>30-01-2014</td>\n",
              "      <td>3406878.0</td>\n",
              "    </tr>\n",
              "    <tr>\n",
              "      <th>4</th>\n",
              "      <td>/organization/0-6-com</td>\n",
              "      <td>/funding-round/5727accaeaa57461bd22a9bdd945382d</td>\n",
              "      <td>venture</td>\n",
              "      <td>A</td>\n",
              "      <td>19-03-2008</td>\n",
              "      <td>2000000.0</td>\n",
              "    </tr>\n",
              "    <tr>\n",
              "      <th>...</th>\n",
              "      <td>...</td>\n",
              "      <td>...</td>\n",
              "      <td>...</td>\n",
              "      <td>...</td>\n",
              "      <td>...</td>\n",
              "      <td>...</td>\n",
              "    </tr>\n",
              "    <tr>\n",
              "      <th>114944</th>\n",
              "      <td>/organization/zzzzapp-com</td>\n",
              "      <td>/funding-round/8f6d25b8ee4199e586484d817bceda05</td>\n",
              "      <td>convertible_note</td>\n",
              "      <td>NaN</td>\n",
              "      <td>01-03-2014</td>\n",
              "      <td>41313.0</td>\n",
              "    </tr>\n",
              "    <tr>\n",
              "      <th>114945</th>\n",
              "      <td>/ORGANIZATION/ZZZZAPP-COM</td>\n",
              "      <td>/funding-round/ff1aa06ed5da186c84f101549035d4ae</td>\n",
              "      <td>seed</td>\n",
              "      <td>NaN</td>\n",
              "      <td>01-05-2013</td>\n",
              "      <td>32842.0</td>\n",
              "    </tr>\n",
              "    <tr>\n",
              "      <th>114946</th>\n",
              "      <td>/organization/銇eron</td>\n",
              "      <td>/funding-round/59f4dce44723b794f21ded3daed6e4fe</td>\n",
              "      <td>venture</td>\n",
              "      <td>A</td>\n",
              "      <td>01-08-2014</td>\n",
              "      <td>NaN</td>\n",
              "    </tr>\n",
              "    <tr>\n",
              "      <th>114947</th>\n",
              "      <td>/ORGANIZATION/脭ASYS-2</td>\n",
              "      <td>/funding-round/35f09d0794651719b02bbfd859ba9ff5</td>\n",
              "      <td>seed</td>\n",
              "      <td>NaN</td>\n",
              "      <td>01-01-2015</td>\n",
              "      <td>18192.0</td>\n",
              "    </tr>\n",
              "    <tr>\n",
              "      <th>114948</th>\n",
              "      <td>/organization/浒novatiff-reklam-ve-tan浔t浔m-hizm...</td>\n",
              "      <td>/funding-round/af942869878d2cd788ef5189b435ebc4</td>\n",
              "      <td>grant</td>\n",
              "      <td>NaN</td>\n",
              "      <td>01-10-2013</td>\n",
              "      <td>14851.0</td>\n",
              "    </tr>\n",
              "  </tbody>\n",
              "</table>\n",
              "<p>114949 rows × 6 columns</p>\n",
              "</div>"
            ],
            "text/plain": [
              "                                        company_permalink  ... raised_amount_usd\n",
              "0                                     /organization/-fame  ...        10000000.0\n",
              "1                                  /ORGANIZATION/-QOUNTER  ...               NaN\n",
              "2                                  /organization/-qounter  ...          700000.0\n",
              "3                     /ORGANIZATION/-THE-ONE-OF-THEM-INC-  ...         3406878.0\n",
              "4                                   /organization/0-6-com  ...         2000000.0\n",
              "...                                                   ...  ...               ...\n",
              "114944                          /organization/zzzzapp-com  ...           41313.0\n",
              "114945                          /ORGANIZATION/ZZZZAPP-COM  ...           32842.0\n",
              "114946                                /organization/銇eron  ...               NaN\n",
              "114947                              /ORGANIZATION/脭ASYS-2  ...           18192.0\n",
              "114948  /organization/浒novatiff-reklam-ve-tan浔t浔m-hizm...  ...           14851.0\n",
              "\n",
              "[114949 rows x 6 columns]"
            ]
          },
          "metadata": {
            "tags": []
          },
          "execution_count": 144
        }
      ]
    },
    {
      "cell_type": "markdown",
      "metadata": {
        "id": "5PVpaschf4we",
        "colab_type": "text"
      },
      "source": [
        "From the above table we can clearly see **114945 and 114944** are of the same company. so lets check for unique value from the table.\n"
      ]
    },
    {
      "cell_type": "code",
      "metadata": {
        "id": "hRCYdcReYW-7",
        "colab_type": "code",
        "outputId": "99726767-d57d-4e2b-be19-0c0a3fded58c",
        "colab": {
          "base_uri": "https://localhost:8080/",
          "height": 0
        }
      },
      "source": [
        "len(rounds2.company_permalink.unique())"
      ],
      "execution_count": 145,
      "outputs": [
        {
          "output_type": "execute_result",
          "data": {
            "text/plain": [
              "90247"
            ]
          },
          "metadata": {
            "tags": []
          },
          "execution_count": 145
        }
      ]
    },
    {
      "cell_type": "markdown",
      "metadata": {
        "id": "lIWfFW17gRP2",
        "colab_type": "text"
      },
      "source": [
        "But pyhton is case sensitive, so we need to convert all the company_permalink to lowercase to check for accurate unique permalinks\n"
      ]
    },
    {
      "cell_type": "code",
      "metadata": {
        "id": "N3b-9bKPfysj",
        "colab_type": "code",
        "outputId": "fe8e47ec-2613-4b83-bbee-f4bab7c62ad2",
        "colab": {
          "base_uri": "https://localhost:8080/",
          "height": 0
        }
      },
      "source": [
        "len(rounds2.company_permalink.str.lower().unique())                 #UNique companies in rounds2"
      ],
      "execution_count": 146,
      "outputs": [
        {
          "output_type": "execute_result",
          "data": {
            "text/plain": [
              "66373"
            ]
          },
          "metadata": {
            "tags": []
          },
          "execution_count": 146
        }
      ]
    },
    {
      "cell_type": "code",
      "metadata": {
        "id": "LW4vHNCMhW6y",
        "colab_type": "code",
        "outputId": "e0872e99-8676-464d-a0a9-067a16370a53",
        "colab": {
          "base_uri": "https://localhost:8080/",
          "height": 0
        }
      },
      "source": [
        "company"
      ],
      "execution_count": 147,
      "outputs": [
        {
          "output_type": "execute_result",
          "data": {
            "text/html": [
              "<div>\n",
              "<style scoped>\n",
              "    .dataframe tbody tr th:only-of-type {\n",
              "        vertical-align: middle;\n",
              "    }\n",
              "\n",
              "    .dataframe tbody tr th {\n",
              "        vertical-align: top;\n",
              "    }\n",
              "\n",
              "    .dataframe thead th {\n",
              "        text-align: right;\n",
              "    }\n",
              "</style>\n",
              "<table border=\"1\" class=\"dataframe\">\n",
              "  <thead>\n",
              "    <tr style=\"text-align: right;\">\n",
              "      <th></th>\n",
              "      <th>permalink</th>\n",
              "      <th>name</th>\n",
              "      <th>homepage_url</th>\n",
              "      <th>category_list</th>\n",
              "      <th>status</th>\n",
              "      <th>country_code</th>\n",
              "      <th>state_code</th>\n",
              "      <th>region</th>\n",
              "      <th>city</th>\n",
              "      <th>founded_at</th>\n",
              "    </tr>\n",
              "  </thead>\n",
              "  <tbody>\n",
              "    <tr>\n",
              "      <th>0</th>\n",
              "      <td>/Organization/-Fame</td>\n",
              "      <td>#fame</td>\n",
              "      <td>http://livfame.com</td>\n",
              "      <td>Media</td>\n",
              "      <td>operating</td>\n",
              "      <td>IND</td>\n",
              "      <td>16</td>\n",
              "      <td>Mumbai</td>\n",
              "      <td>Mumbai</td>\n",
              "      <td>NaN</td>\n",
              "    </tr>\n",
              "    <tr>\n",
              "      <th>1</th>\n",
              "      <td>/Organization/-Qounter</td>\n",
              "      <td>:Qounter</td>\n",
              "      <td>http://www.qounter.com</td>\n",
              "      <td>Application Platforms|Real Time|Social Network...</td>\n",
              "      <td>operating</td>\n",
              "      <td>USA</td>\n",
              "      <td>DE</td>\n",
              "      <td>DE - Other</td>\n",
              "      <td>Delaware City</td>\n",
              "      <td>04-09-2014</td>\n",
              "    </tr>\n",
              "    <tr>\n",
              "      <th>2</th>\n",
              "      <td>/Organization/-The-One-Of-Them-Inc-</td>\n",
              "      <td>(THE) ONE of THEM,Inc.</td>\n",
              "      <td>http://oneofthem.jp</td>\n",
              "      <td>Apps|Games|Mobile</td>\n",
              "      <td>operating</td>\n",
              "      <td>NaN</td>\n",
              "      <td>NaN</td>\n",
              "      <td>NaN</td>\n",
              "      <td>NaN</td>\n",
              "      <td>NaN</td>\n",
              "    </tr>\n",
              "    <tr>\n",
              "      <th>3</th>\n",
              "      <td>/Organization/0-6-Com</td>\n",
              "      <td>0-6.com</td>\n",
              "      <td>http://www.0-6.com</td>\n",
              "      <td>Curated Web</td>\n",
              "      <td>operating</td>\n",
              "      <td>CHN</td>\n",
              "      <td>22</td>\n",
              "      <td>Beijing</td>\n",
              "      <td>Beijing</td>\n",
              "      <td>01-01-2007</td>\n",
              "    </tr>\n",
              "    <tr>\n",
              "      <th>4</th>\n",
              "      <td>/Organization/004-Technologies</td>\n",
              "      <td>004 Technologies</td>\n",
              "      <td>http://004gmbh.de/en/004-interact</td>\n",
              "      <td>Software</td>\n",
              "      <td>operating</td>\n",
              "      <td>USA</td>\n",
              "      <td>IL</td>\n",
              "      <td>Springfield, Illinois</td>\n",
              "      <td>Champaign</td>\n",
              "      <td>01-01-2010</td>\n",
              "    </tr>\n",
              "    <tr>\n",
              "      <th>...</th>\n",
              "      <td>...</td>\n",
              "      <td>...</td>\n",
              "      <td>...</td>\n",
              "      <td>...</td>\n",
              "      <td>...</td>\n",
              "      <td>...</td>\n",
              "      <td>...</td>\n",
              "      <td>...</td>\n",
              "      <td>...</td>\n",
              "      <td>...</td>\n",
              "    </tr>\n",
              "    <tr>\n",
              "      <th>66363</th>\n",
              "      <td>/Organization/Zznode-Science-And-Technology-Co...</td>\n",
              "      <td>ZZNode Science and Technology</td>\n",
              "      <td>http://www.zznode.com</td>\n",
              "      <td>Enterprise Software</td>\n",
              "      <td>operating</td>\n",
              "      <td>CHN</td>\n",
              "      <td>22</td>\n",
              "      <td>Beijing</td>\n",
              "      <td>Beijing</td>\n",
              "      <td>NaN</td>\n",
              "    </tr>\n",
              "    <tr>\n",
              "      <th>66364</th>\n",
              "      <td>/Organization/Zzzzapp-Com</td>\n",
              "      <td>Zzzzapp Wireless ltd.</td>\n",
              "      <td>http://www.zzzzapp.com</td>\n",
              "      <td>Advertising|Mobile|Web Development|Wireless</td>\n",
              "      <td>operating</td>\n",
              "      <td>HRV</td>\n",
              "      <td>15</td>\n",
              "      <td>Split</td>\n",
              "      <td>Split</td>\n",
              "      <td>13-05-2012</td>\n",
              "    </tr>\n",
              "    <tr>\n",
              "      <th>66365</th>\n",
              "      <td>/Organization/ÁEron</td>\n",
              "      <td>ÁERON</td>\n",
              "      <td>http://www.aeron.hu/</td>\n",
              "      <td>NaN</td>\n",
              "      <td>operating</td>\n",
              "      <td>NaN</td>\n",
              "      <td>NaN</td>\n",
              "      <td>NaN</td>\n",
              "      <td>NaN</td>\n",
              "      <td>01-01-2011</td>\n",
              "    </tr>\n",
              "    <tr>\n",
              "      <th>66366</th>\n",
              "      <td>/Organization/ÔAsys-2</td>\n",
              "      <td>Ôasys</td>\n",
              "      <td>http://www.oasys.io/</td>\n",
              "      <td>Consumer Electronics|Internet of Things|Teleco...</td>\n",
              "      <td>operating</td>\n",
              "      <td>USA</td>\n",
              "      <td>CA</td>\n",
              "      <td>SF Bay Area</td>\n",
              "      <td>San Francisco</td>\n",
              "      <td>01-01-2014</td>\n",
              "    </tr>\n",
              "    <tr>\n",
              "      <th>66367</th>\n",
              "      <td>/Organization/İNovatiff-Reklam-Ve-Tan�T�M-Hizm...</td>\n",
              "      <td>İnovatiff Reklam ve Tanıtım Hizmetleri Tic</td>\n",
              "      <td>http://inovatiff.com</td>\n",
              "      <td>Consumer Goods|E-Commerce|Internet</td>\n",
              "      <td>operating</td>\n",
              "      <td>NaN</td>\n",
              "      <td>NaN</td>\n",
              "      <td>NaN</td>\n",
              "      <td>NaN</td>\n",
              "      <td>NaN</td>\n",
              "    </tr>\n",
              "  </tbody>\n",
              "</table>\n",
              "<p>66368 rows × 10 columns</p>\n",
              "</div>"
            ],
            "text/plain": [
              "                                               permalink  ...  founded_at\n",
              "0                                    /Organization/-Fame  ...         NaN\n",
              "1                                 /Organization/-Qounter  ...  04-09-2014\n",
              "2                    /Organization/-The-One-Of-Them-Inc-  ...         NaN\n",
              "3                                  /Organization/0-6-Com  ...  01-01-2007\n",
              "4                         /Organization/004-Technologies  ...  01-01-2010\n",
              "...                                                  ...  ...         ...\n",
              "66363  /Organization/Zznode-Science-And-Technology-Co...  ...         NaN\n",
              "66364                          /Organization/Zzzzapp-Com  ...  13-05-2012\n",
              "66365                                /Organization/ÁEron  ...  01-01-2011\n",
              "66366                              /Organization/ÔAsys-2  ...  01-01-2014\n",
              "66367  /Organization/İNovatiff-Reklam-Ve-Tan�T�M-Hizm...  ...         NaN\n",
              "\n",
              "[66368 rows x 10 columns]"
            ]
          },
          "metadata": {
            "tags": []
          },
          "execution_count": 147
        }
      ]
    },
    {
      "cell_type": "markdown",
      "metadata": {
        "id": "zbMVNfD2rVtz",
        "colab_type": "text"
      },
      "source": [
        "To find the Total number of unique companies in *company* DataFrame."
      ]
    },
    {
      "cell_type": "code",
      "metadata": {
        "id": "ICqkEA79rHd_",
        "colab_type": "code",
        "outputId": "5c1540e8-8680-48bf-d97e-3859b7d76f10",
        "colab": {
          "base_uri": "https://localhost:8080/",
          "height": 0
        }
      },
      "source": [
        "len(company.permalink.str.lower().unique())                         #Unique companies in company df"
      ],
      "execution_count": 148,
      "outputs": [
        {
          "output_type": "execute_result",
          "data": {
            "text/plain": [
              "66368"
            ]
          },
          "metadata": {
            "tags": []
          },
          "execution_count": 148
        }
      ]
    },
    {
      "cell_type": "code",
      "metadata": {
        "id": "AUidBk60hcqc",
        "colab_type": "code",
        "outputId": "2279b412-e92a-486b-896b-ea45ec449f0f",
        "colab": {
          "base_uri": "https://localhost:8080/",
          "height": 0
        }
      },
      "source": [
        "len(company.name.str.lower().unique())                              #Unique company names in the df"
      ],
      "execution_count": 149,
      "outputs": [
        {
          "output_type": "execute_result",
          "data": {
            "text/plain": [
              "66038"
            ]
          },
          "metadata": {
            "tags": []
          },
          "execution_count": 149
        }
      ]
    },
    {
      "cell_type": "markdown",
      "metadata": {
        "id": "f7DxkYNcrwF8",
        "colab_type": "text"
      },
      "source": [
        "Now, here is a delima. The above cell shows that there are 330 companies that have different permalink but same name.\n",
        "\n",
        "As companies can have same names we will consider **company_permalink** as the measure to identify each company uniquely.\n",
        "\n",
        "Now we have observed that the files are having special characters, which are not readable. Hence, we will remove those characters from the dataframe to compare it on same characters. **And hence have a reliable anaylsis**\n"
      ]
    },
    {
      "cell_type": "markdown",
      "metadata": {
        "id": "jXVhpck3YWu0",
        "colab_type": "text"
      },
      "source": [
        "**In order to find the companies name in rounds2 but not in company.**"
      ]
    },
    {
      "cell_type": "code",
      "metadata": {
        "id": "rI1POcyLBXrr",
        "colab_type": "code",
        "colab": {}
      },
      "source": [
        "company['permalink'] = company['permalink'].str.encode('ascii','ignore').str.decode('ascii','ignore')\n",
        "rounds2['company_permalink'] = rounds2['company_permalink'].str.encode('ascii','ignore').str.decode('ascii','ignore') \n",
        "\n",
        "company.permalink=company.permalink.str.lower()\n",
        "rounds2['permalink']=rounds2.company_permalink.str.lower()"
      ],
      "execution_count": 0,
      "outputs": []
    },
    {
      "cell_type": "code",
      "metadata": {
        "id": "bqmJf3r9ZbyL",
        "colab_type": "code",
        "outputId": "1097d8e9-21dc-4d8a-e04e-814d45d05aa6",
        "colab": {
          "base_uri": "https://localhost:8080/",
          "height": 0
        }
      },
      "source": [
        "len(rounds2[~rounds2.permalink.isin(company.permalink)])             #number of the rows in rounds2 that were not present in the company"
      ],
      "execution_count": 151,
      "outputs": [
        {
          "output_type": "execute_result",
          "data": {
            "text/plain": [
              "5"
            ]
          },
          "metadata": {
            "tags": []
          },
          "execution_count": 151
        }
      ]
    },
    {
      "cell_type": "markdown",
      "metadata": {
        "id": "a3MGWPTPdB1L",
        "colab_type": "text"
      },
      "source": [
        "Here we see that there are **6** companies that are present in rounds2 but not in company.\n",
        "\n",
        "Now merging the two DataFrames in such a way that, all the columns of company is added to rounds2 DataFrame and we name the resulting DataFrame as **master_frame**. Hence, we will do an inner join in order to remove those companies that are not present in both tables.\n",
        "The final rows must be 114949-6 = **114943**\n"
      ]
    },
    {
      "cell_type": "code",
      "metadata": {
        "id": "VA-PFLSjZ-i0",
        "colab_type": "code",
        "colab": {}
      },
      "source": [
        "master_frame=pd.merge(rounds2,company,how='inner',on='permalink')        #Master_frame containing all data of rounds2 and company"
      ],
      "execution_count": 0,
      "outputs": []
    },
    {
      "cell_type": "code",
      "metadata": {
        "id": "qmK4t8cJeyjg",
        "colab_type": "code",
        "outputId": "5ec5cdf5-a670-4b44-e68d-dfc6ad5e8432",
        "colab": {
          "base_uri": "https://localhost:8080/",
          "height": 0
        }
      },
      "source": [
        "master_frame.head()"
      ],
      "execution_count": 153,
      "outputs": [
        {
          "output_type": "execute_result",
          "data": {
            "text/html": [
              "<div>\n",
              "<style scoped>\n",
              "    .dataframe tbody tr th:only-of-type {\n",
              "        vertical-align: middle;\n",
              "    }\n",
              "\n",
              "    .dataframe tbody tr th {\n",
              "        vertical-align: top;\n",
              "    }\n",
              "\n",
              "    .dataframe thead th {\n",
              "        text-align: right;\n",
              "    }\n",
              "</style>\n",
              "<table border=\"1\" class=\"dataframe\">\n",
              "  <thead>\n",
              "    <tr style=\"text-align: right;\">\n",
              "      <th></th>\n",
              "      <th>company_permalink</th>\n",
              "      <th>funding_round_permalink</th>\n",
              "      <th>funding_round_type</th>\n",
              "      <th>funding_round_code</th>\n",
              "      <th>funded_at</th>\n",
              "      <th>raised_amount_usd</th>\n",
              "      <th>permalink</th>\n",
              "      <th>name</th>\n",
              "      <th>homepage_url</th>\n",
              "      <th>category_list</th>\n",
              "      <th>status</th>\n",
              "      <th>country_code</th>\n",
              "      <th>state_code</th>\n",
              "      <th>region</th>\n",
              "      <th>city</th>\n",
              "      <th>founded_at</th>\n",
              "    </tr>\n",
              "  </thead>\n",
              "  <tbody>\n",
              "    <tr>\n",
              "      <th>0</th>\n",
              "      <td>/organization/-fame</td>\n",
              "      <td>/funding-round/9a01d05418af9f794eebff7ace91f638</td>\n",
              "      <td>venture</td>\n",
              "      <td>B</td>\n",
              "      <td>05-01-2015</td>\n",
              "      <td>10000000.0</td>\n",
              "      <td>/organization/-fame</td>\n",
              "      <td>#fame</td>\n",
              "      <td>http://livfame.com</td>\n",
              "      <td>Media</td>\n",
              "      <td>operating</td>\n",
              "      <td>IND</td>\n",
              "      <td>16</td>\n",
              "      <td>Mumbai</td>\n",
              "      <td>Mumbai</td>\n",
              "      <td>NaN</td>\n",
              "    </tr>\n",
              "    <tr>\n",
              "      <th>1</th>\n",
              "      <td>/ORGANIZATION/-QOUNTER</td>\n",
              "      <td>/funding-round/22dacff496eb7acb2b901dec1dfe5633</td>\n",
              "      <td>venture</td>\n",
              "      <td>A</td>\n",
              "      <td>14-10-2014</td>\n",
              "      <td>NaN</td>\n",
              "      <td>/organization/-qounter</td>\n",
              "      <td>:Qounter</td>\n",
              "      <td>http://www.qounter.com</td>\n",
              "      <td>Application Platforms|Real Time|Social Network...</td>\n",
              "      <td>operating</td>\n",
              "      <td>USA</td>\n",
              "      <td>DE</td>\n",
              "      <td>DE - Other</td>\n",
              "      <td>Delaware City</td>\n",
              "      <td>04-09-2014</td>\n",
              "    </tr>\n",
              "    <tr>\n",
              "      <th>2</th>\n",
              "      <td>/organization/-qounter</td>\n",
              "      <td>/funding-round/b44fbb94153f6cdef13083530bb48030</td>\n",
              "      <td>seed</td>\n",
              "      <td>NaN</td>\n",
              "      <td>01-03-2014</td>\n",
              "      <td>700000.0</td>\n",
              "      <td>/organization/-qounter</td>\n",
              "      <td>:Qounter</td>\n",
              "      <td>http://www.qounter.com</td>\n",
              "      <td>Application Platforms|Real Time|Social Network...</td>\n",
              "      <td>operating</td>\n",
              "      <td>USA</td>\n",
              "      <td>DE</td>\n",
              "      <td>DE - Other</td>\n",
              "      <td>Delaware City</td>\n",
              "      <td>04-09-2014</td>\n",
              "    </tr>\n",
              "    <tr>\n",
              "      <th>3</th>\n",
              "      <td>/ORGANIZATION/-THE-ONE-OF-THEM-INC-</td>\n",
              "      <td>/funding-round/650b8f704416801069bb178a1418776b</td>\n",
              "      <td>venture</td>\n",
              "      <td>B</td>\n",
              "      <td>30-01-2014</td>\n",
              "      <td>3406878.0</td>\n",
              "      <td>/organization/-the-one-of-them-inc-</td>\n",
              "      <td>(THE) ONE of THEM,Inc.</td>\n",
              "      <td>http://oneofthem.jp</td>\n",
              "      <td>Apps|Games|Mobile</td>\n",
              "      <td>operating</td>\n",
              "      <td>NaN</td>\n",
              "      <td>NaN</td>\n",
              "      <td>NaN</td>\n",
              "      <td>NaN</td>\n",
              "      <td>NaN</td>\n",
              "    </tr>\n",
              "    <tr>\n",
              "      <th>4</th>\n",
              "      <td>/organization/0-6-com</td>\n",
              "      <td>/funding-round/5727accaeaa57461bd22a9bdd945382d</td>\n",
              "      <td>venture</td>\n",
              "      <td>A</td>\n",
              "      <td>19-03-2008</td>\n",
              "      <td>2000000.0</td>\n",
              "      <td>/organization/0-6-com</td>\n",
              "      <td>0-6.com</td>\n",
              "      <td>http://www.0-6.com</td>\n",
              "      <td>Curated Web</td>\n",
              "      <td>operating</td>\n",
              "      <td>CHN</td>\n",
              "      <td>22</td>\n",
              "      <td>Beijing</td>\n",
              "      <td>Beijing</td>\n",
              "      <td>01-01-2007</td>\n",
              "    </tr>\n",
              "  </tbody>\n",
              "</table>\n",
              "</div>"
            ],
            "text/plain": [
              "                     company_permalink  ...  founded_at\n",
              "0                  /organization/-fame  ...         NaN\n",
              "1               /ORGANIZATION/-QOUNTER  ...  04-09-2014\n",
              "2               /organization/-qounter  ...  04-09-2014\n",
              "3  /ORGANIZATION/-THE-ONE-OF-THEM-INC-  ...         NaN\n",
              "4                /organization/0-6-com  ...  01-01-2007\n",
              "\n",
              "[5 rows x 16 columns]"
            ]
          },
          "metadata": {
            "tags": []
          },
          "execution_count": 153
        }
      ]
    },
    {
      "cell_type": "code",
      "metadata": {
        "id": "S6zMS_3Cek8u",
        "colab_type": "code",
        "outputId": "6560ab12-b56c-4677-cc7d-11d7b9d3e9c3",
        "colab": {
          "base_uri": "https://localhost:8080/",
          "height": 0
        }
      },
      "source": [
        "master_frame.shape"
      ],
      "execution_count": 154,
      "outputs": [
        {
          "output_type": "execute_result",
          "data": {
            "text/plain": [
              "(114944, 16)"
            ]
          },
          "metadata": {
            "tags": []
          },
          "execution_count": 154
        }
      ]
    },
    {
      "cell_type": "markdown",
      "metadata": {
        "id": "J-6cXgHoeqCo",
        "colab_type": "text"
      },
      "source": [
        "The shape of master_frame is **( 114943 , 16 )**. As expected.\n",
        "\n"
      ]
    },
    {
      "cell_type": "markdown",
      "metadata": {
        "id": "Fi9tyU_LiSeu",
        "colab_type": "text"
      },
      "source": [
        "# **CheckPoint 2:** _$Funding $    $ Type $ $ Analysis $_"
      ]
    },
    {
      "cell_type": "markdown",
      "metadata": {
        "id": "gFzvKgyVHNPb",
        "colab_type": "text"
      },
      "source": [
        "Let's first try to clean the data."
      ]
    },
    {
      "cell_type": "code",
      "metadata": {
        "id": "FwF26IHyioil",
        "colab_type": "code",
        "outputId": "3208147b-3c6a-41e0-a0b4-24ba93392b92",
        "colab": {
          "base_uri": "https://localhost:8080/",
          "height": 293
        }
      },
      "source": [
        "round(master_frame.isnull().sum()/len(master_frame.index)*100,2)"
      ],
      "execution_count": 155,
      "outputs": [
        {
          "output_type": "execute_result",
          "data": {
            "text/plain": [
              "company_permalink           0.00\n",
              "funding_round_permalink     0.00\n",
              "funding_round_type          0.00\n",
              "funding_round_code         72.91\n",
              "funded_at                   0.00\n",
              "raised_amount_usd          17.39\n",
              "permalink                   0.00\n",
              "name                        0.00\n",
              "homepage_url                5.33\n",
              "category_list               2.96\n",
              "status                      0.00\n",
              "country_code                7.55\n",
              "state_code                  9.52\n",
              "region                      8.84\n",
              "city                        8.84\n",
              "founded_at                 17.85\n",
              "dtype: float64"
            ]
          },
          "metadata": {
            "tags": []
          },
          "execution_count": 155
        }
      ]
    },
    {
      "cell_type": "markdown",
      "metadata": {
        "id": "qz1Po102H5Rz",
        "colab_type": "text"
      },
      "source": [
        "Now we need to drop the raised amount column cell's whose values are null."
      ]
    },
    {
      "cell_type": "code",
      "metadata": {
        "id": "ou3wtYChHocd",
        "colab_type": "code",
        "colab": {}
      },
      "source": [
        "master_frame.drop(master_frame[master_frame.raised_amount_usd.isnull()].index,inplace=True)\n",
        "master_frame.drop('funding_round_code', axis=1,inplace=True)\n",
        "master_frame.drop('founded_at', axis=1,inplace=True)\n",
        "master_frame.drop('homepage_url', axis=1,inplace=True)"
      ],
      "execution_count": 0,
      "outputs": []
    },
    {
      "cell_type": "code",
      "metadata": {
        "id": "kGlhCg9IRJ1h",
        "colab_type": "code",
        "outputId": "302e324e-9aba-4f72-9b28-5480657f7750",
        "colab": {
          "base_uri": "https://localhost:8080/",
          "height": 0
        }
      },
      "source": [
        "master_frame.shape"
      ],
      "execution_count": 157,
      "outputs": [
        {
          "output_type": "execute_result",
          "data": {
            "text/plain": [
              "(94956, 13)"
            ]
          },
          "metadata": {
            "tags": []
          },
          "execution_count": 157
        }
      ]
    },
    {
      "cell_type": "code",
      "metadata": {
        "id": "YyuazP6lIQsF",
        "colab_type": "code",
        "outputId": "ea857881-8c27-496b-86a5-dcf377a0a69b",
        "colab": {
          "base_uri": "https://localhost:8080/",
          "height": 0
        }
      },
      "source": [
        "master_frame.country_code"
      ],
      "execution_count": 158,
      "outputs": [
        {
          "output_type": "execute_result",
          "data": {
            "text/plain": [
              "0         IND\n",
              "2         USA\n",
              "3         NaN\n",
              "4         CHN\n",
              "6         HKG\n",
              "         ... \n",
              "114938    HRV\n",
              "114939    HRV\n",
              "114940    HRV\n",
              "114942    USA\n",
              "114943    NaN\n",
              "Name: country_code, Length: 94956, dtype: object"
            ]
          },
          "metadata": {
            "tags": []
          },
          "execution_count": 158
        }
      ]
    },
    {
      "cell_type": "code",
      "metadata": {
        "id": "Lq4VENMyRdoD",
        "colab_type": "code",
        "outputId": "74acb617-fcc8-4fce-dd57-cf7cba230c4f",
        "colab": {
          "base_uri": "https://localhost:8080/",
          "height": 0
        }
      },
      "source": [
        "round(master_frame.isnull().sum()/len(master_frame.index)*100,2)"
      ],
      "execution_count": 159,
      "outputs": [
        {
          "output_type": "execute_result",
          "data": {
            "text/plain": [
              "company_permalink          0.00\n",
              "funding_round_permalink    0.00\n",
              "funding_round_type         0.00\n",
              "funded_at                  0.00\n",
              "raised_amount_usd          0.00\n",
              "permalink                  0.00\n",
              "name                       0.00\n",
              "category_list              1.10\n",
              "status                     0.00\n",
              "country_code               6.16\n",
              "state_code                 8.01\n",
              "region                     7.42\n",
              "city                       7.42\n",
              "dtype: float64"
            ]
          },
          "metadata": {
            "tags": []
          },
          "execution_count": 159
        }
      ]
    },
    {
      "cell_type": "markdown",
      "metadata": {
        "id": "mRxO3PouJXpX",
        "colab_type": "text"
      },
      "source": [
        "Here a lot of data is dropped but will help in improving the quality of analysis.\n",
        "\n",
        "Hence now we Will find the mean investment in each of the company categories."
      ]
    },
    {
      "cell_type": "code",
      "metadata": {
        "id": "rfTHfKWbIV3j",
        "colab_type": "code",
        "outputId": "15679f3c-c05f-450e-e768-4f2c85e16a1d",
        "colab": {
          "base_uri": "https://localhost:8080/",
          "height": 0
        }
      },
      "source": [
        "round(master_frame.groupby('funding_round_type').raised_amount_usd.mean()/1000000,2)"
      ],
      "execution_count": 160,
      "outputs": [
        {
          "output_type": "execute_result",
          "data": {
            "text/plain": [
              "funding_round_type\n",
              "angel                      0.96\n",
              "convertible_note           1.45\n",
              "debt_financing            17.04\n",
              "equity_crowdfunding        0.54\n",
              "grant                      4.30\n",
              "non_equity_assistance      0.41\n",
              "post_ipo_debt            168.70\n",
              "post_ipo_equity           82.18\n",
              "private_equity            73.31\n",
              "product_crowdfunding       1.36\n",
              "secondary_market          79.65\n",
              "seed                       0.72\n",
              "undisclosed               19.24\n",
              "venture                   11.75\n",
              "Name: raised_amount_usd, dtype: float64"
            ]
          },
          "metadata": {
            "tags": []
          },
          "execution_count": 160
        }
      ]
    },
    {
      "cell_type": "markdown",
      "metadata": {
        "id": "B9ZofcS1KQHH",
        "colab_type": "text"
      },
      "source": [
        "Among all the category only the **Venture** seems to be in the range of **5-15M** usd for investment.\n",
        "But it might not be the best option. So we need to look for the categories with most investment done in the range of **5M - 15M**. lets investigate."
      ]
    },
    {
      "cell_type": "code",
      "metadata": {
        "id": "fkylJccbUzmB",
        "colab_type": "code",
        "outputId": "fb1e39da-28bb-427f-9aef-b9eab49247bf",
        "colab": {
          "base_uri": "https://localhost:8080/",
          "height": 0
        }
      },
      "source": [
        "(master_frame[(master_frame['raised_amount_usd'] >= 5000000) & (master_frame['raised_amount_usd'] <= 15000000)].groupby('funding_round_type').count()).sort_values(by = 'raised_amount_usd', ascending = False)"
      ],
      "execution_count": 161,
      "outputs": [
        {
          "output_type": "execute_result",
          "data": {
            "text/html": [
              "<div>\n",
              "<style scoped>\n",
              "    .dataframe tbody tr th:only-of-type {\n",
              "        vertical-align: middle;\n",
              "    }\n",
              "\n",
              "    .dataframe tbody tr th {\n",
              "        vertical-align: top;\n",
              "    }\n",
              "\n",
              "    .dataframe thead th {\n",
              "        text-align: right;\n",
              "    }\n",
              "</style>\n",
              "<table border=\"1\" class=\"dataframe\">\n",
              "  <thead>\n",
              "    <tr style=\"text-align: right;\">\n",
              "      <th></th>\n",
              "      <th>company_permalink</th>\n",
              "      <th>funding_round_permalink</th>\n",
              "      <th>funded_at</th>\n",
              "      <th>raised_amount_usd</th>\n",
              "      <th>permalink</th>\n",
              "      <th>name</th>\n",
              "      <th>category_list</th>\n",
              "      <th>status</th>\n",
              "      <th>country_code</th>\n",
              "      <th>state_code</th>\n",
              "      <th>region</th>\n",
              "      <th>city</th>\n",
              "    </tr>\n",
              "    <tr>\n",
              "      <th>funding_round_type</th>\n",
              "      <th></th>\n",
              "      <th></th>\n",
              "      <th></th>\n",
              "      <th></th>\n",
              "      <th></th>\n",
              "      <th></th>\n",
              "      <th></th>\n",
              "      <th></th>\n",
              "      <th></th>\n",
              "      <th></th>\n",
              "      <th></th>\n",
              "      <th></th>\n",
              "    </tr>\n",
              "  </thead>\n",
              "  <tbody>\n",
              "    <tr>\n",
              "      <th>venture</th>\n",
              "      <td>16598</td>\n",
              "      <td>16598</td>\n",
              "      <td>16598</td>\n",
              "      <td>16598</td>\n",
              "      <td>16598</td>\n",
              "      <td>16598</td>\n",
              "      <td>16399</td>\n",
              "      <td>16598</td>\n",
              "      <td>15895</td>\n",
              "      <td>15656</td>\n",
              "      <td>15711</td>\n",
              "      <td>15711</td>\n",
              "    </tr>\n",
              "    <tr>\n",
              "      <th>debt_financing</th>\n",
              "      <td>870</td>\n",
              "      <td>870</td>\n",
              "      <td>870</td>\n",
              "      <td>870</td>\n",
              "      <td>870</td>\n",
              "      <td>870</td>\n",
              "      <td>864</td>\n",
              "      <td>870</td>\n",
              "      <td>850</td>\n",
              "      <td>843</td>\n",
              "      <td>846</td>\n",
              "      <td>846</td>\n",
              "    </tr>\n",
              "    <tr>\n",
              "      <th>private_equity</th>\n",
              "      <td>429</td>\n",
              "      <td>429</td>\n",
              "      <td>429</td>\n",
              "      <td>429</td>\n",
              "      <td>429</td>\n",
              "      <td>429</td>\n",
              "      <td>424</td>\n",
              "      <td>429</td>\n",
              "      <td>406</td>\n",
              "      <td>399</td>\n",
              "      <td>400</td>\n",
              "      <td>402</td>\n",
              "    </tr>\n",
              "    <tr>\n",
              "      <th>undisclosed</th>\n",
              "      <td>226</td>\n",
              "      <td>226</td>\n",
              "      <td>226</td>\n",
              "      <td>226</td>\n",
              "      <td>226</td>\n",
              "      <td>226</td>\n",
              "      <td>222</td>\n",
              "      <td>226</td>\n",
              "      <td>193</td>\n",
              "      <td>183</td>\n",
              "      <td>182</td>\n",
              "      <td>182</td>\n",
              "    </tr>\n",
              "    <tr>\n",
              "      <th>seed</th>\n",
              "      <td>203</td>\n",
              "      <td>203</td>\n",
              "      <td>203</td>\n",
              "      <td>203</td>\n",
              "      <td>203</td>\n",
              "      <td>203</td>\n",
              "      <td>200</td>\n",
              "      <td>203</td>\n",
              "      <td>189</td>\n",
              "      <td>184</td>\n",
              "      <td>187</td>\n",
              "      <td>187</td>\n",
              "    </tr>\n",
              "    <tr>\n",
              "      <th>grant</th>\n",
              "      <td>173</td>\n",
              "      <td>173</td>\n",
              "      <td>173</td>\n",
              "      <td>173</td>\n",
              "      <td>173</td>\n",
              "      <td>173</td>\n",
              "      <td>160</td>\n",
              "      <td>173</td>\n",
              "      <td>169</td>\n",
              "      <td>168</td>\n",
              "      <td>168</td>\n",
              "      <td>168</td>\n",
              "    </tr>\n",
              "    <tr>\n",
              "      <th>post_ipo_equity</th>\n",
              "      <td>152</td>\n",
              "      <td>152</td>\n",
              "      <td>152</td>\n",
              "      <td>152</td>\n",
              "      <td>152</td>\n",
              "      <td>152</td>\n",
              "      <td>150</td>\n",
              "      <td>152</td>\n",
              "      <td>147</td>\n",
              "      <td>147</td>\n",
              "      <td>146</td>\n",
              "      <td>146</td>\n",
              "    </tr>\n",
              "    <tr>\n",
              "      <th>angel</th>\n",
              "      <td>72</td>\n",
              "      <td>72</td>\n",
              "      <td>72</td>\n",
              "      <td>72</td>\n",
              "      <td>72</td>\n",
              "      <td>72</td>\n",
              "      <td>72</td>\n",
              "      <td>72</td>\n",
              "      <td>68</td>\n",
              "      <td>65</td>\n",
              "      <td>66</td>\n",
              "      <td>66</td>\n",
              "    </tr>\n",
              "    <tr>\n",
              "      <th>convertible_note</th>\n",
              "      <td>48</td>\n",
              "      <td>48</td>\n",
              "      <td>48</td>\n",
              "      <td>48</td>\n",
              "      <td>48</td>\n",
              "      <td>48</td>\n",
              "      <td>48</td>\n",
              "      <td>48</td>\n",
              "      <td>47</td>\n",
              "      <td>47</td>\n",
              "      <td>47</td>\n",
              "      <td>47</td>\n",
              "    </tr>\n",
              "    <tr>\n",
              "      <th>post_ipo_debt</th>\n",
              "      <td>34</td>\n",
              "      <td>34</td>\n",
              "      <td>34</td>\n",
              "      <td>34</td>\n",
              "      <td>34</td>\n",
              "      <td>34</td>\n",
              "      <td>34</td>\n",
              "      <td>34</td>\n",
              "      <td>34</td>\n",
              "      <td>34</td>\n",
              "      <td>34</td>\n",
              "      <td>34</td>\n",
              "    </tr>\n",
              "    <tr>\n",
              "      <th>equity_crowdfunding</th>\n",
              "      <td>23</td>\n",
              "      <td>23</td>\n",
              "      <td>23</td>\n",
              "      <td>23</td>\n",
              "      <td>23</td>\n",
              "      <td>23</td>\n",
              "      <td>22</td>\n",
              "      <td>23</td>\n",
              "      <td>21</td>\n",
              "      <td>21</td>\n",
              "      <td>20</td>\n",
              "      <td>20</td>\n",
              "    </tr>\n",
              "    <tr>\n",
              "      <th>product_crowdfunding</th>\n",
              "      <td>15</td>\n",
              "      <td>15</td>\n",
              "      <td>15</td>\n",
              "      <td>15</td>\n",
              "      <td>15</td>\n",
              "      <td>15</td>\n",
              "      <td>15</td>\n",
              "      <td>15</td>\n",
              "      <td>13</td>\n",
              "      <td>13</td>\n",
              "      <td>13</td>\n",
              "      <td>13</td>\n",
              "    </tr>\n",
              "    <tr>\n",
              "      <th>secondary_market</th>\n",
              "      <td>4</td>\n",
              "      <td>4</td>\n",
              "      <td>4</td>\n",
              "      <td>4</td>\n",
              "      <td>4</td>\n",
              "      <td>4</td>\n",
              "      <td>4</td>\n",
              "      <td>4</td>\n",
              "      <td>4</td>\n",
              "      <td>4</td>\n",
              "      <td>4</td>\n",
              "      <td>4</td>\n",
              "    </tr>\n",
              "    <tr>\n",
              "      <th>non_equity_assistance</th>\n",
              "      <td>1</td>\n",
              "      <td>1</td>\n",
              "      <td>1</td>\n",
              "      <td>1</td>\n",
              "      <td>1</td>\n",
              "      <td>1</td>\n",
              "      <td>1</td>\n",
              "      <td>1</td>\n",
              "      <td>1</td>\n",
              "      <td>1</td>\n",
              "      <td>1</td>\n",
              "      <td>1</td>\n",
              "    </tr>\n",
              "  </tbody>\n",
              "</table>\n",
              "</div>"
            ],
            "text/plain": [
              "                       company_permalink  ...   city\n",
              "funding_round_type                        ...       \n",
              "venture                            16598  ...  15711\n",
              "debt_financing                       870  ...    846\n",
              "private_equity                       429  ...    402\n",
              "undisclosed                          226  ...    182\n",
              "seed                                 203  ...    187\n",
              "grant                                173  ...    168\n",
              "post_ipo_equity                      152  ...    146\n",
              "angel                                 72  ...     66\n",
              "convertible_note                      48  ...     47\n",
              "post_ipo_debt                         34  ...     34\n",
              "equity_crowdfunding                   23  ...     20\n",
              "product_crowdfunding                  15  ...     13\n",
              "secondary_market                       4  ...      4\n",
              "non_equity_assistance                  1  ...      1\n",
              "\n",
              "[14 rows x 12 columns]"
            ]
          },
          "metadata": {
            "tags": []
          },
          "execution_count": 161
        }
      ]
    },
    {
      "cell_type": "code",
      "metadata": {
        "id": "o4FZIZLwkZ1s",
        "colab_type": "code",
        "outputId": "991dbb3a-5cd9-49be-d668-85c110c43987",
        "colab": {
          "base_uri": "https://localhost:8080/",
          "height": 0
        }
      },
      "source": [
        "(master_frame[(master_frame['raised_amount_usd'] >= 5000000) & (master_frame['raised_amount_usd'] <= 15000000)].groupby('funding_round_type').mean()/1000000).sort_values(by = 'raised_amount_usd', ascending = False)"
      ],
      "execution_count": 162,
      "outputs": [
        {
          "output_type": "execute_result",
          "data": {
            "text/html": [
              "<div>\n",
              "<style scoped>\n",
              "    .dataframe tbody tr th:only-of-type {\n",
              "        vertical-align: middle;\n",
              "    }\n",
              "\n",
              "    .dataframe tbody tr th {\n",
              "        vertical-align: top;\n",
              "    }\n",
              "\n",
              "    .dataframe thead th {\n",
              "        text-align: right;\n",
              "    }\n",
              "</style>\n",
              "<table border=\"1\" class=\"dataframe\">\n",
              "  <thead>\n",
              "    <tr style=\"text-align: right;\">\n",
              "      <th></th>\n",
              "      <th>raised_amount_usd</th>\n",
              "    </tr>\n",
              "    <tr>\n",
              "      <th>funding_round_type</th>\n",
              "      <th></th>\n",
              "    </tr>\n",
              "  </thead>\n",
              "  <tbody>\n",
              "    <tr>\n",
              "      <th>non_equity_assistance</th>\n",
              "      <td>15.000000</td>\n",
              "    </tr>\n",
              "    <tr>\n",
              "      <th>post_ipo_equity</th>\n",
              "      <td>9.324945</td>\n",
              "    </tr>\n",
              "    <tr>\n",
              "      <th>private_equity</th>\n",
              "      <td>9.283496</td>\n",
              "    </tr>\n",
              "    <tr>\n",
              "      <th>product_crowdfunding</th>\n",
              "      <td>9.158713</td>\n",
              "    </tr>\n",
              "    <tr>\n",
              "      <th>venture</th>\n",
              "      <td>8.888551</td>\n",
              "    </tr>\n",
              "    <tr>\n",
              "      <th>post_ipo_debt</th>\n",
              "      <td>8.793382</td>\n",
              "    </tr>\n",
              "    <tr>\n",
              "      <th>grant</th>\n",
              "      <td>8.546105</td>\n",
              "    </tr>\n",
              "    <tr>\n",
              "      <th>undisclosed</th>\n",
              "      <td>8.499421</td>\n",
              "    </tr>\n",
              "    <tr>\n",
              "      <th>debt_financing</th>\n",
              "      <td>8.283572</td>\n",
              "    </tr>\n",
              "    <tr>\n",
              "      <th>secondary_market</th>\n",
              "      <td>8.102816</td>\n",
              "    </tr>\n",
              "    <tr>\n",
              "      <th>convertible_note</th>\n",
              "      <td>8.071730</td>\n",
              "    </tr>\n",
              "    <tr>\n",
              "      <th>angel</th>\n",
              "      <td>7.212355</td>\n",
              "    </tr>\n",
              "    <tr>\n",
              "      <th>seed</th>\n",
              "      <td>6.610420</td>\n",
              "    </tr>\n",
              "    <tr>\n",
              "      <th>equity_crowdfunding</th>\n",
              "      <td>6.544841</td>\n",
              "    </tr>\n",
              "  </tbody>\n",
              "</table>\n",
              "</div>"
            ],
            "text/plain": [
              "                       raised_amount_usd\n",
              "funding_round_type                      \n",
              "non_equity_assistance          15.000000\n",
              "post_ipo_equity                 9.324945\n",
              "private_equity                  9.283496\n",
              "product_crowdfunding            9.158713\n",
              "venture                         8.888551\n",
              "post_ipo_debt                   8.793382\n",
              "grant                           8.546105\n",
              "undisclosed                     8.499421\n",
              "debt_financing                  8.283572\n",
              "secondary_market                8.102816\n",
              "convertible_note                8.071730\n",
              "angel                           7.212355\n",
              "seed                            6.610420\n",
              "equity_crowdfunding             6.544841"
            ]
          },
          "metadata": {
            "tags": []
          },
          "execution_count": 162
        }
      ]
    },
    {
      "cell_type": "markdown",
      "metadata": {
        "id": "olqu6l3mmq1d",
        "colab_type": "text"
      },
      "source": [
        "From the above table you can see that **post_ip_equity** id having the highest mean investement in our range. But very few of investers have invested in the company.But **private_equilty** has a large amount of investors and seems to be more reliable than above mentioned.\n",
        "So, in order have "
      ]
    },
    {
      "cell_type": "markdown",
      "metadata": {
        "id": "JavfBzeQKqUs",
        "colab_type": "text"
      },
      "source": [
        "**Hence, the companies that Sparks fund should invest in the venture if it wants more reliablity but invest in Private_equity  for highest amount investement  with decently reliable company category**."
      ]
    },
    {
      "cell_type": "markdown",
      "metadata": {
        "id": "KZ8rJwwCipTM",
        "colab_type": "text"
      },
      "source": [
        "# **CheckPoint 3:** _$Country$      $Analysis$_"
      ]
    },
    {
      "cell_type": "markdown",
      "metadata": {
        "id": "KZcIKIzyLI5t",
        "colab_type": "text"
      },
      "source": [
        "Here we create a new Data Frame named top9 to find out the **top9** countries with highest fundings received."
      ]
    },
    {
      "cell_type": "code",
      "metadata": {
        "id": "j4nbPSZji_VF",
        "colab_type": "code",
        "colab": {}
      },
      "source": [
        "top9 = pd.DataFrame(master_frame[master_frame['funding_round_type'] == 'venture'].groupby('country_code').raised_amount_usd.sum()/(10**6)).sort_values(by = 'raised_amount_usd', ascending = False)[:9]\n",
        "# (master_frame[master_frame.funding_round_type=='venture']).groupby('country_code').head()"
      ],
      "execution_count": 0,
      "outputs": []
    },
    {
      "cell_type": "code",
      "metadata": {
        "id": "cMqKEkvFw6QG",
        "colab_type": "code",
        "outputId": "fd2883be-d278-4730-eec1-20d428895593",
        "colab": {
          "base_uri": "https://localhost:8080/",
          "height": 335
        }
      },
      "source": [
        "top9"
      ],
      "execution_count": 164,
      "outputs": [
        {
          "output_type": "execute_result",
          "data": {
            "text/html": [
              "<div>\n",
              "<style scoped>\n",
              "    .dataframe tbody tr th:only-of-type {\n",
              "        vertical-align: middle;\n",
              "    }\n",
              "\n",
              "    .dataframe tbody tr th {\n",
              "        vertical-align: top;\n",
              "    }\n",
              "\n",
              "    .dataframe thead th {\n",
              "        text-align: right;\n",
              "    }\n",
              "</style>\n",
              "<table border=\"1\" class=\"dataframe\">\n",
              "  <thead>\n",
              "    <tr style=\"text-align: right;\">\n",
              "      <th></th>\n",
              "      <th>raised_amount_usd</th>\n",
              "    </tr>\n",
              "    <tr>\n",
              "      <th>country_code</th>\n",
              "      <th></th>\n",
              "    </tr>\n",
              "  </thead>\n",
              "  <tbody>\n",
              "    <tr>\n",
              "      <th>USA</th>\n",
              "      <td>422510.842796</td>\n",
              "    </tr>\n",
              "    <tr>\n",
              "      <th>CHN</th>\n",
              "      <td>39835.418773</td>\n",
              "    </tr>\n",
              "    <tr>\n",
              "      <th>GBR</th>\n",
              "      <td>20245.627416</td>\n",
              "    </tr>\n",
              "    <tr>\n",
              "      <th>IND</th>\n",
              "      <td>14391.858718</td>\n",
              "    </tr>\n",
              "    <tr>\n",
              "      <th>CAN</th>\n",
              "      <td>9583.332317</td>\n",
              "    </tr>\n",
              "    <tr>\n",
              "      <th>FRA</th>\n",
              "      <td>7259.536732</td>\n",
              "    </tr>\n",
              "    <tr>\n",
              "      <th>ISR</th>\n",
              "      <td>6907.514579</td>\n",
              "    </tr>\n",
              "    <tr>\n",
              "      <th>DEU</th>\n",
              "      <td>6346.959822</td>\n",
              "    </tr>\n",
              "    <tr>\n",
              "      <th>JPN</th>\n",
              "      <td>3363.676611</td>\n",
              "    </tr>\n",
              "  </tbody>\n",
              "</table>\n",
              "</div>"
            ],
            "text/plain": [
              "              raised_amount_usd\n",
              "country_code                   \n",
              "USA               422510.842796\n",
              "CHN                39835.418773\n",
              "GBR                20245.627416\n",
              "IND                14391.858718\n",
              "CAN                 9583.332317\n",
              "FRA                 7259.536732\n",
              "ISR                 6907.514579\n",
              "DEU                 6346.959822\n",
              "JPN                 3363.676611"
            ]
          },
          "metadata": {
            "tags": []
          },
          "execution_count": 164
        }
      ]
    },
    {
      "cell_type": "markdown",
      "metadata": {
        "id": "MD2gzs3_0361",
        "colab_type": "text"
      },
      "source": [
        "The top 3 englisg speaking country with highest investment are: USA, GBR,IND\n",
        "\n",
        "\n",
        "\n",
        "<!--  -->"
      ]
    },
    {
      "cell_type": "markdown",
      "metadata": {
        "id": "UNmAKKZAi_-o",
        "colab_type": "text"
      },
      "source": [
        "# **CheckPoint 4:** _$Sector$ $Analysis_1$_"
      ]
    },
    {
      "cell_type": "markdown",
      "metadata": {
        "id": "mp6pDuvGIlKp",
        "colab_type": "text"
      },
      "source": [
        "**WE now narrow down our data to only those countries where the most fundings in venture category have occured around the world.**"
      ]
    },
    {
      "cell_type": "code",
      "metadata": {
        "id": "HylP4fmfjZIC",
        "colab_type": "code",
        "outputId": "3fd9639f-9ed9-4e0f-cfcf-3632f3972874",
        "colab": {
          "base_uri": "https://localhost:8080/",
          "height": 622
        }
      },
      "source": [
        "top9_df=master_frame[master_frame.country_code.isin(list(top9.index))]\n",
        "top9_df=top9_df[top9_df.funding_round_type.isin(['venture'])]\n",
        "top9_df"
      ],
      "execution_count": 165,
      "outputs": [
        {
          "output_type": "execute_result",
          "data": {
            "text/html": [
              "<div>\n",
              "<style scoped>\n",
              "    .dataframe tbody tr th:only-of-type {\n",
              "        vertical-align: middle;\n",
              "    }\n",
              "\n",
              "    .dataframe tbody tr th {\n",
              "        vertical-align: top;\n",
              "    }\n",
              "\n",
              "    .dataframe thead th {\n",
              "        text-align: right;\n",
              "    }\n",
              "</style>\n",
              "<table border=\"1\" class=\"dataframe\">\n",
              "  <thead>\n",
              "    <tr style=\"text-align: right;\">\n",
              "      <th></th>\n",
              "      <th>company_permalink</th>\n",
              "      <th>funding_round_permalink</th>\n",
              "      <th>funding_round_type</th>\n",
              "      <th>funded_at</th>\n",
              "      <th>raised_amount_usd</th>\n",
              "      <th>permalink</th>\n",
              "      <th>name</th>\n",
              "      <th>category_list</th>\n",
              "      <th>status</th>\n",
              "      <th>country_code</th>\n",
              "      <th>state_code</th>\n",
              "      <th>region</th>\n",
              "      <th>city</th>\n",
              "    </tr>\n",
              "  </thead>\n",
              "  <tbody>\n",
              "    <tr>\n",
              "      <th>0</th>\n",
              "      <td>/organization/-fame</td>\n",
              "      <td>/funding-round/9a01d05418af9f794eebff7ace91f638</td>\n",
              "      <td>venture</td>\n",
              "      <td>05-01-2015</td>\n",
              "      <td>10000000.0</td>\n",
              "      <td>/organization/-fame</td>\n",
              "      <td>#fame</td>\n",
              "      <td>Media</td>\n",
              "      <td>operating</td>\n",
              "      <td>IND</td>\n",
              "      <td>16</td>\n",
              "      <td>Mumbai</td>\n",
              "      <td>Mumbai</td>\n",
              "    </tr>\n",
              "    <tr>\n",
              "      <th>4</th>\n",
              "      <td>/organization/0-6-com</td>\n",
              "      <td>/funding-round/5727accaeaa57461bd22a9bdd945382d</td>\n",
              "      <td>venture</td>\n",
              "      <td>19-03-2008</td>\n",
              "      <td>2000000.0</td>\n",
              "      <td>/organization/0-6-com</td>\n",
              "      <td>0-6.com</td>\n",
              "      <td>Curated Web</td>\n",
              "      <td>operating</td>\n",
              "      <td>CHN</td>\n",
              "      <td>22</td>\n",
              "      <td>Beijing</td>\n",
              "      <td>Beijing</td>\n",
              "    </tr>\n",
              "    <tr>\n",
              "      <th>8</th>\n",
              "      <td>/organization/0ndine-biomedical-inc</td>\n",
              "      <td>/funding-round/954b9499724b946ad8c396a57a5f3b72</td>\n",
              "      <td>venture</td>\n",
              "      <td>21-12-2009</td>\n",
              "      <td>719491.0</td>\n",
              "      <td>/organization/0ndine-biomedical-inc</td>\n",
              "      <td>Ondine Biomedical Inc.</td>\n",
              "      <td>Biotechnology</td>\n",
              "      <td>operating</td>\n",
              "      <td>CAN</td>\n",
              "      <td>BC</td>\n",
              "      <td>Vancouver</td>\n",
              "      <td>Vancouver</td>\n",
              "    </tr>\n",
              "    <tr>\n",
              "      <th>10</th>\n",
              "      <td>/organization/0xdata</td>\n",
              "      <td>/funding-round/3bb2ee4a2d89251a10aaa735b1180e44</td>\n",
              "      <td>venture</td>\n",
              "      <td>09-11-2015</td>\n",
              "      <td>20000000.0</td>\n",
              "      <td>/organization/0xdata</td>\n",
              "      <td>H2O.ai</td>\n",
              "      <td>Analytics</td>\n",
              "      <td>operating</td>\n",
              "      <td>USA</td>\n",
              "      <td>CA</td>\n",
              "      <td>SF Bay Area</td>\n",
              "      <td>Mountain View</td>\n",
              "    </tr>\n",
              "    <tr>\n",
              "      <th>11</th>\n",
              "      <td>/ORGANIZATION/0XDATA</td>\n",
              "      <td>/funding-round/ae2a174c06517c2394aed45006322a7e</td>\n",
              "      <td>venture</td>\n",
              "      <td>03-01-2013</td>\n",
              "      <td>1700000.0</td>\n",
              "      <td>/organization/0xdata</td>\n",
              "      <td>H2O.ai</td>\n",
              "      <td>Analytics</td>\n",
              "      <td>operating</td>\n",
              "      <td>USA</td>\n",
              "      <td>CA</td>\n",
              "      <td>SF Bay Area</td>\n",
              "      <td>Mountain View</td>\n",
              "    </tr>\n",
              "    <tr>\n",
              "      <th>...</th>\n",
              "      <td>...</td>\n",
              "      <td>...</td>\n",
              "      <td>...</td>\n",
              "      <td>...</td>\n",
              "      <td>...</td>\n",
              "      <td>...</td>\n",
              "      <td>...</td>\n",
              "      <td>...</td>\n",
              "      <td>...</td>\n",
              "      <td>...</td>\n",
              "      <td>...</td>\n",
              "      <td>...</td>\n",
              "      <td>...</td>\n",
              "    </tr>\n",
              "    <tr>\n",
              "      <th>114917</th>\n",
              "      <td>/organization/zyomyx-inc</td>\n",
              "      <td>/funding-round/b4fce7f8a13267353d57db09099800e8</td>\n",
              "      <td>venture</td>\n",
              "      <td>11-07-2013</td>\n",
              "      <td>14219999.0</td>\n",
              "      <td>/organization/zyomyx-inc</td>\n",
              "      <td>ZYOMYX</td>\n",
              "      <td>Biotechnology</td>\n",
              "      <td>operating</td>\n",
              "      <td>USA</td>\n",
              "      <td>MO</td>\n",
              "      <td>MO - Other</td>\n",
              "      <td>Fremont</td>\n",
              "    </tr>\n",
              "    <tr>\n",
              "      <th>114918</th>\n",
              "      <td>/ORGANIZATION/ZYOMYX-INC</td>\n",
              "      <td>/funding-round/ea5b21da6cf999ff4d5667431fe318d7</td>\n",
              "      <td>venture</td>\n",
              "      <td>29-01-2010</td>\n",
              "      <td>555016.0</td>\n",
              "      <td>/organization/zyomyx-inc</td>\n",
              "      <td>ZYOMYX</td>\n",
              "      <td>Biotechnology</td>\n",
              "      <td>operating</td>\n",
              "      <td>USA</td>\n",
              "      <td>MO</td>\n",
              "      <td>MO - Other</td>\n",
              "      <td>Fremont</td>\n",
              "    </tr>\n",
              "    <tr>\n",
              "      <th>114929</th>\n",
              "      <td>/organization/zyrra</td>\n",
              "      <td>/funding-round/7a0fa791c96c9c447ee54662395beab9</td>\n",
              "      <td>venture</td>\n",
              "      <td>18-10-2012</td>\n",
              "      <td>140500.0</td>\n",
              "      <td>/organization/zyrra</td>\n",
              "      <td>Zyrra</td>\n",
              "      <td>E-Commerce</td>\n",
              "      <td>operating</td>\n",
              "      <td>USA</td>\n",
              "      <td>MA</td>\n",
              "      <td>Boston</td>\n",
              "      <td>Cambridge</td>\n",
              "    </tr>\n",
              "    <tr>\n",
              "      <th>114931</th>\n",
              "      <td>/organization/zystor</td>\n",
              "      <td>/funding-round/7ea37c0ff4132b084832039a9380d34e</td>\n",
              "      <td>venture</td>\n",
              "      <td>16-12-2004</td>\n",
              "      <td>8500000.0</td>\n",
              "      <td>/organization/zystor</td>\n",
              "      <td>Zystor</td>\n",
              "      <td>Biotechnology</td>\n",
              "      <td>acquired</td>\n",
              "      <td>USA</td>\n",
              "      <td>WI</td>\n",
              "      <td>Milwaukee</td>\n",
              "      <td>Milwaukee</td>\n",
              "    </tr>\n",
              "    <tr>\n",
              "      <th>114936</th>\n",
              "      <td>/ORGANIZATION/ZZNODE-SCIENCE-AND-TECHNOLOGY-CO...</td>\n",
              "      <td>/funding-round/171693e1e07e0230defd8fddb6de4515</td>\n",
              "      <td>venture</td>\n",
              "      <td>01-04-2012</td>\n",
              "      <td>1587301.0</td>\n",
              "      <td>/organization/zznode-science-and-technology-co...</td>\n",
              "      <td>ZZNode Science and Technology</td>\n",
              "      <td>Enterprise Software</td>\n",
              "      <td>operating</td>\n",
              "      <td>CHN</td>\n",
              "      <td>22</td>\n",
              "      <td>Beijing</td>\n",
              "      <td>Beijing</td>\n",
              "    </tr>\n",
              "  </tbody>\n",
              "</table>\n",
              "<p>44383 rows × 13 columns</p>\n",
              "</div>"
            ],
            "text/plain": [
              "                                        company_permalink  ...           city\n",
              "0                                     /organization/-fame  ...         Mumbai\n",
              "4                                   /organization/0-6-com  ...        Beijing\n",
              "8                     /organization/0ndine-biomedical-inc  ...      Vancouver\n",
              "10                                   /organization/0xdata  ...  Mountain View\n",
              "11                                   /ORGANIZATION/0XDATA  ...  Mountain View\n",
              "...                                                   ...  ...            ...\n",
              "114917                           /organization/zyomyx-inc  ...        Fremont\n",
              "114918                           /ORGANIZATION/ZYOMYX-INC  ...        Fremont\n",
              "114929                                /organization/zyrra  ...      Cambridge\n",
              "114931                               /organization/zystor  ...      Milwaukee\n",
              "114936  /ORGANIZATION/ZZNODE-SCIENCE-AND-TECHNOLOGY-CO...  ...        Beijing\n",
              "\n",
              "[44383 rows x 13 columns]"
            ]
          },
          "metadata": {
            "tags": []
          },
          "execution_count": 165
        }
      ]
    },
    {
      "cell_type": "markdown",
      "metadata": {
        "id": "fK8EVMe0KuJa",
        "colab_type": "text"
      },
      "source": [
        "If we look at the **category_list** column in the data it has multiple category. We need to reduce that to one category for each company. "
      ]
    },
    {
      "cell_type": "code",
      "metadata": {
        "id": "gnYgB5zm51in",
        "colab_type": "code",
        "colab": {}
      },
      "source": [
        "top9_df['primary_sector']=top9_df.category_list.str.split(\"|\",n=2,expand=True)[[0]]"
      ],
      "execution_count": 0,
      "outputs": []
    },
    {
      "cell_type": "code",
      "metadata": {
        "id": "NQ_qTP0h8MsH",
        "colab_type": "code",
        "outputId": "aee2faf6-fe41-4cf3-c73b-12244934f343",
        "colab": {
          "base_uri": "https://localhost:8080/",
          "height": 0
        }
      },
      "source": [
        "top9_df"
      ],
      "execution_count": 167,
      "outputs": [
        {
          "output_type": "execute_result",
          "data": {
            "text/html": [
              "<div>\n",
              "<style scoped>\n",
              "    .dataframe tbody tr th:only-of-type {\n",
              "        vertical-align: middle;\n",
              "    }\n",
              "\n",
              "    .dataframe tbody tr th {\n",
              "        vertical-align: top;\n",
              "    }\n",
              "\n",
              "    .dataframe thead th {\n",
              "        text-align: right;\n",
              "    }\n",
              "</style>\n",
              "<table border=\"1\" class=\"dataframe\">\n",
              "  <thead>\n",
              "    <tr style=\"text-align: right;\">\n",
              "      <th></th>\n",
              "      <th>company_permalink</th>\n",
              "      <th>funding_round_permalink</th>\n",
              "      <th>funding_round_type</th>\n",
              "      <th>funded_at</th>\n",
              "      <th>raised_amount_usd</th>\n",
              "      <th>permalink</th>\n",
              "      <th>name</th>\n",
              "      <th>category_list</th>\n",
              "      <th>status</th>\n",
              "      <th>country_code</th>\n",
              "      <th>state_code</th>\n",
              "      <th>region</th>\n",
              "      <th>city</th>\n",
              "      <th>primary_sector</th>\n",
              "    </tr>\n",
              "  </thead>\n",
              "  <tbody>\n",
              "    <tr>\n",
              "      <th>0</th>\n",
              "      <td>/organization/-fame</td>\n",
              "      <td>/funding-round/9a01d05418af9f794eebff7ace91f638</td>\n",
              "      <td>venture</td>\n",
              "      <td>05-01-2015</td>\n",
              "      <td>10000000.0</td>\n",
              "      <td>/organization/-fame</td>\n",
              "      <td>#fame</td>\n",
              "      <td>Media</td>\n",
              "      <td>operating</td>\n",
              "      <td>IND</td>\n",
              "      <td>16</td>\n",
              "      <td>Mumbai</td>\n",
              "      <td>Mumbai</td>\n",
              "      <td>Media</td>\n",
              "    </tr>\n",
              "    <tr>\n",
              "      <th>4</th>\n",
              "      <td>/organization/0-6-com</td>\n",
              "      <td>/funding-round/5727accaeaa57461bd22a9bdd945382d</td>\n",
              "      <td>venture</td>\n",
              "      <td>19-03-2008</td>\n",
              "      <td>2000000.0</td>\n",
              "      <td>/organization/0-6-com</td>\n",
              "      <td>0-6.com</td>\n",
              "      <td>Curated Web</td>\n",
              "      <td>operating</td>\n",
              "      <td>CHN</td>\n",
              "      <td>22</td>\n",
              "      <td>Beijing</td>\n",
              "      <td>Beijing</td>\n",
              "      <td>Curated Web</td>\n",
              "    </tr>\n",
              "    <tr>\n",
              "      <th>8</th>\n",
              "      <td>/organization/0ndine-biomedical-inc</td>\n",
              "      <td>/funding-round/954b9499724b946ad8c396a57a5f3b72</td>\n",
              "      <td>venture</td>\n",
              "      <td>21-12-2009</td>\n",
              "      <td>719491.0</td>\n",
              "      <td>/organization/0ndine-biomedical-inc</td>\n",
              "      <td>Ondine Biomedical Inc.</td>\n",
              "      <td>Biotechnology</td>\n",
              "      <td>operating</td>\n",
              "      <td>CAN</td>\n",
              "      <td>BC</td>\n",
              "      <td>Vancouver</td>\n",
              "      <td>Vancouver</td>\n",
              "      <td>Biotechnology</td>\n",
              "    </tr>\n",
              "    <tr>\n",
              "      <th>10</th>\n",
              "      <td>/organization/0xdata</td>\n",
              "      <td>/funding-round/3bb2ee4a2d89251a10aaa735b1180e44</td>\n",
              "      <td>venture</td>\n",
              "      <td>09-11-2015</td>\n",
              "      <td>20000000.0</td>\n",
              "      <td>/organization/0xdata</td>\n",
              "      <td>H2O.ai</td>\n",
              "      <td>Analytics</td>\n",
              "      <td>operating</td>\n",
              "      <td>USA</td>\n",
              "      <td>CA</td>\n",
              "      <td>SF Bay Area</td>\n",
              "      <td>Mountain View</td>\n",
              "      <td>Analytics</td>\n",
              "    </tr>\n",
              "    <tr>\n",
              "      <th>11</th>\n",
              "      <td>/ORGANIZATION/0XDATA</td>\n",
              "      <td>/funding-round/ae2a174c06517c2394aed45006322a7e</td>\n",
              "      <td>venture</td>\n",
              "      <td>03-01-2013</td>\n",
              "      <td>1700000.0</td>\n",
              "      <td>/organization/0xdata</td>\n",
              "      <td>H2O.ai</td>\n",
              "      <td>Analytics</td>\n",
              "      <td>operating</td>\n",
              "      <td>USA</td>\n",
              "      <td>CA</td>\n",
              "      <td>SF Bay Area</td>\n",
              "      <td>Mountain View</td>\n",
              "      <td>Analytics</td>\n",
              "    </tr>\n",
              "    <tr>\n",
              "      <th>...</th>\n",
              "      <td>...</td>\n",
              "      <td>...</td>\n",
              "      <td>...</td>\n",
              "      <td>...</td>\n",
              "      <td>...</td>\n",
              "      <td>...</td>\n",
              "      <td>...</td>\n",
              "      <td>...</td>\n",
              "      <td>...</td>\n",
              "      <td>...</td>\n",
              "      <td>...</td>\n",
              "      <td>...</td>\n",
              "      <td>...</td>\n",
              "      <td>...</td>\n",
              "    </tr>\n",
              "    <tr>\n",
              "      <th>114917</th>\n",
              "      <td>/organization/zyomyx-inc</td>\n",
              "      <td>/funding-round/b4fce7f8a13267353d57db09099800e8</td>\n",
              "      <td>venture</td>\n",
              "      <td>11-07-2013</td>\n",
              "      <td>14219999.0</td>\n",
              "      <td>/organization/zyomyx-inc</td>\n",
              "      <td>ZYOMYX</td>\n",
              "      <td>Biotechnology</td>\n",
              "      <td>operating</td>\n",
              "      <td>USA</td>\n",
              "      <td>MO</td>\n",
              "      <td>MO - Other</td>\n",
              "      <td>Fremont</td>\n",
              "      <td>Biotechnology</td>\n",
              "    </tr>\n",
              "    <tr>\n",
              "      <th>114918</th>\n",
              "      <td>/ORGANIZATION/ZYOMYX-INC</td>\n",
              "      <td>/funding-round/ea5b21da6cf999ff4d5667431fe318d7</td>\n",
              "      <td>venture</td>\n",
              "      <td>29-01-2010</td>\n",
              "      <td>555016.0</td>\n",
              "      <td>/organization/zyomyx-inc</td>\n",
              "      <td>ZYOMYX</td>\n",
              "      <td>Biotechnology</td>\n",
              "      <td>operating</td>\n",
              "      <td>USA</td>\n",
              "      <td>MO</td>\n",
              "      <td>MO - Other</td>\n",
              "      <td>Fremont</td>\n",
              "      <td>Biotechnology</td>\n",
              "    </tr>\n",
              "    <tr>\n",
              "      <th>114929</th>\n",
              "      <td>/organization/zyrra</td>\n",
              "      <td>/funding-round/7a0fa791c96c9c447ee54662395beab9</td>\n",
              "      <td>venture</td>\n",
              "      <td>18-10-2012</td>\n",
              "      <td>140500.0</td>\n",
              "      <td>/organization/zyrra</td>\n",
              "      <td>Zyrra</td>\n",
              "      <td>E-Commerce</td>\n",
              "      <td>operating</td>\n",
              "      <td>USA</td>\n",
              "      <td>MA</td>\n",
              "      <td>Boston</td>\n",
              "      <td>Cambridge</td>\n",
              "      <td>E-Commerce</td>\n",
              "    </tr>\n",
              "    <tr>\n",
              "      <th>114931</th>\n",
              "      <td>/organization/zystor</td>\n",
              "      <td>/funding-round/7ea37c0ff4132b084832039a9380d34e</td>\n",
              "      <td>venture</td>\n",
              "      <td>16-12-2004</td>\n",
              "      <td>8500000.0</td>\n",
              "      <td>/organization/zystor</td>\n",
              "      <td>Zystor</td>\n",
              "      <td>Biotechnology</td>\n",
              "      <td>acquired</td>\n",
              "      <td>USA</td>\n",
              "      <td>WI</td>\n",
              "      <td>Milwaukee</td>\n",
              "      <td>Milwaukee</td>\n",
              "      <td>Biotechnology</td>\n",
              "    </tr>\n",
              "    <tr>\n",
              "      <th>114936</th>\n",
              "      <td>/ORGANIZATION/ZZNODE-SCIENCE-AND-TECHNOLOGY-CO...</td>\n",
              "      <td>/funding-round/171693e1e07e0230defd8fddb6de4515</td>\n",
              "      <td>venture</td>\n",
              "      <td>01-04-2012</td>\n",
              "      <td>1587301.0</td>\n",
              "      <td>/organization/zznode-science-and-technology-co...</td>\n",
              "      <td>ZZNode Science and Technology</td>\n",
              "      <td>Enterprise Software</td>\n",
              "      <td>operating</td>\n",
              "      <td>CHN</td>\n",
              "      <td>22</td>\n",
              "      <td>Beijing</td>\n",
              "      <td>Beijing</td>\n",
              "      <td>Enterprise Software</td>\n",
              "    </tr>\n",
              "  </tbody>\n",
              "</table>\n",
              "<p>44383 rows × 14 columns</p>\n",
              "</div>"
            ],
            "text/plain": [
              "                                        company_permalink  ...       primary_sector\n",
              "0                                     /organization/-fame  ...                Media\n",
              "4                                   /organization/0-6-com  ...          Curated Web\n",
              "8                     /organization/0ndine-biomedical-inc  ...        Biotechnology\n",
              "10                                   /organization/0xdata  ...            Analytics\n",
              "11                                   /ORGANIZATION/0XDATA  ...            Analytics\n",
              "...                                                   ...  ...                  ...\n",
              "114917                           /organization/zyomyx-inc  ...        Biotechnology\n",
              "114918                           /ORGANIZATION/ZYOMYX-INC  ...        Biotechnology\n",
              "114929                                /organization/zyrra  ...           E-Commerce\n",
              "114931                               /organization/zystor  ...        Biotechnology\n",
              "114936  /ORGANIZATION/ZZNODE-SCIENCE-AND-TECHNOLOGY-CO...  ...  Enterprise Software\n",
              "\n",
              "[44383 rows x 14 columns]"
            ]
          },
          "metadata": {
            "tags": []
          },
          "execution_count": 167
        }
      ]
    },
    {
      "cell_type": "markdown",
      "metadata": {
        "id": "obZ4fPrDLFFy",
        "colab_type": "text"
      },
      "source": [
        "According to the problem statement, we have to associate **main sectors** of each company from mapping DataFrame.\n",
        "\n",
        "And also we find that the **category_list** data have defects in which 'na' is replaced by '0'. We need to correct that too"
      ]
    },
    {
      "cell_type": "code",
      "metadata": {
        "id": "PR_tHGptOCgS",
        "colab_type": "code",
        "outputId": "3ee33a4d-4cd8-49ed-b6d6-b8e1f62cc7f5",
        "colab": {
          "base_uri": "https://localhost:8080/",
          "height": 0
        }
      },
      "source": [
        "mapping.head()"
      ],
      "execution_count": 168,
      "outputs": [
        {
          "output_type": "execute_result",
          "data": {
            "text/html": [
              "<div>\n",
              "<style scoped>\n",
              "    .dataframe tbody tr th:only-of-type {\n",
              "        vertical-align: middle;\n",
              "    }\n",
              "\n",
              "    .dataframe tbody tr th {\n",
              "        vertical-align: top;\n",
              "    }\n",
              "\n",
              "    .dataframe thead th {\n",
              "        text-align: right;\n",
              "    }\n",
              "</style>\n",
              "<table border=\"1\" class=\"dataframe\">\n",
              "  <thead>\n",
              "    <tr style=\"text-align: right;\">\n",
              "      <th></th>\n",
              "      <th>category_list</th>\n",
              "      <th>Automotive &amp; Sports</th>\n",
              "      <th>Blanks</th>\n",
              "      <th>Cleantech / Semiconductors</th>\n",
              "      <th>Entertainment</th>\n",
              "      <th>Health</th>\n",
              "      <th>Manufacturing</th>\n",
              "      <th>News, Search and Messaging</th>\n",
              "      <th>Others</th>\n",
              "      <th>Social, Finance, Analytics, Advertising</th>\n",
              "    </tr>\n",
              "  </thead>\n",
              "  <tbody>\n",
              "    <tr>\n",
              "      <th>0</th>\n",
              "      <td>NaN</td>\n",
              "      <td>0</td>\n",
              "      <td>1</td>\n",
              "      <td>0</td>\n",
              "      <td>0</td>\n",
              "      <td>0</td>\n",
              "      <td>0</td>\n",
              "      <td>0</td>\n",
              "      <td>0</td>\n",
              "      <td>0</td>\n",
              "    </tr>\n",
              "    <tr>\n",
              "      <th>1</th>\n",
              "      <td>3D</td>\n",
              "      <td>0</td>\n",
              "      <td>0</td>\n",
              "      <td>0</td>\n",
              "      <td>0</td>\n",
              "      <td>0</td>\n",
              "      <td>1</td>\n",
              "      <td>0</td>\n",
              "      <td>0</td>\n",
              "      <td>0</td>\n",
              "    </tr>\n",
              "    <tr>\n",
              "      <th>2</th>\n",
              "      <td>3D Printing</td>\n",
              "      <td>0</td>\n",
              "      <td>0</td>\n",
              "      <td>0</td>\n",
              "      <td>0</td>\n",
              "      <td>0</td>\n",
              "      <td>1</td>\n",
              "      <td>0</td>\n",
              "      <td>0</td>\n",
              "      <td>0</td>\n",
              "    </tr>\n",
              "    <tr>\n",
              "      <th>3</th>\n",
              "      <td>3D Technology</td>\n",
              "      <td>0</td>\n",
              "      <td>0</td>\n",
              "      <td>0</td>\n",
              "      <td>0</td>\n",
              "      <td>0</td>\n",
              "      <td>1</td>\n",
              "      <td>0</td>\n",
              "      <td>0</td>\n",
              "      <td>0</td>\n",
              "    </tr>\n",
              "    <tr>\n",
              "      <th>4</th>\n",
              "      <td>Accounting</td>\n",
              "      <td>0</td>\n",
              "      <td>0</td>\n",
              "      <td>0</td>\n",
              "      <td>0</td>\n",
              "      <td>0</td>\n",
              "      <td>0</td>\n",
              "      <td>0</td>\n",
              "      <td>0</td>\n",
              "      <td>1</td>\n",
              "    </tr>\n",
              "  </tbody>\n",
              "</table>\n",
              "</div>"
            ],
            "text/plain": [
              "   category_list  ...  Social, Finance, Analytics, Advertising\n",
              "0            NaN  ...                                        0\n",
              "1             3D  ...                                        0\n",
              "2    3D Printing  ...                                        0\n",
              "3  3D Technology  ...                                        0\n",
              "4     Accounting  ...                                        1\n",
              "\n",
              "[5 rows x 10 columns]"
            ]
          },
          "metadata": {
            "tags": []
          },
          "execution_count": 168
        }
      ]
    },
    {
      "cell_type": "markdown",
      "metadata": {
        "id": "qgmJtyLfL9Bp",
        "colab_type": "text"
      },
      "source": [
        "Defining the function for correcting the defect of data"
      ]
    },
    {
      "cell_type": "code",
      "metadata": {
        "id": "KkVKS4q_QGkm",
        "colab_type": "code",
        "colab": {}
      },
      "source": [
        "def correction(category):\n",
        "  if '0' in category:\n",
        "    if category.startswith('0'):\n",
        "      return category[:category.find('0')]+'Na'+category[:category.find('0')+1:]\n",
        "    elif category.endswith(\"0\"): \n",
        "      return category\n",
        "    else:\n",
        "      return category[:category.find('0')]+'na'+category[category.find('0')+1:]\n",
        "  else:\n",
        "    return category"
      ],
      "execution_count": 0,
      "outputs": []
    },
    {
      "cell_type": "code",
      "metadata": {
        "id": "6obUxUN0Y3e9",
        "colab_type": "code",
        "colab": {}
      },
      "source": [
        "mapping=mapping[~mapping['category_list'].isnull()]"
      ],
      "execution_count": 0,
      "outputs": []
    },
    {
      "cell_type": "code",
      "metadata": {
        "id": "CJz_pKxPWalF",
        "colab_type": "code",
        "colab": {}
      },
      "source": [
        "mapping['category_list']=mapping['category_list'].apply(correction)"
      ],
      "execution_count": 0,
      "outputs": []
    },
    {
      "cell_type": "markdown",
      "metadata": {
        "id": "CYT2_Se4MVfs",
        "colab_type": "text"
      },
      "source": [
        "Corrected data of mapping DataFrame."
      ]
    },
    {
      "cell_type": "code",
      "metadata": {
        "id": "I7X28eQMaCYa",
        "colab_type": "code",
        "outputId": "f635dbdb-990c-4ae7-f70d-ada859ee325f",
        "colab": {
          "base_uri": "https://localhost:8080/",
          "height": 0
        }
      },
      "source": [
        "\n",
        "mapping"
      ],
      "execution_count": 172,
      "outputs": [
        {
          "output_type": "execute_result",
          "data": {
            "text/html": [
              "<div>\n",
              "<style scoped>\n",
              "    .dataframe tbody tr th:only-of-type {\n",
              "        vertical-align: middle;\n",
              "    }\n",
              "\n",
              "    .dataframe tbody tr th {\n",
              "        vertical-align: top;\n",
              "    }\n",
              "\n",
              "    .dataframe thead th {\n",
              "        text-align: right;\n",
              "    }\n",
              "</style>\n",
              "<table border=\"1\" class=\"dataframe\">\n",
              "  <thead>\n",
              "    <tr style=\"text-align: right;\">\n",
              "      <th></th>\n",
              "      <th>category_list</th>\n",
              "      <th>Automotive &amp; Sports</th>\n",
              "      <th>Blanks</th>\n",
              "      <th>Cleantech / Semiconductors</th>\n",
              "      <th>Entertainment</th>\n",
              "      <th>Health</th>\n",
              "      <th>Manufacturing</th>\n",
              "      <th>News, Search and Messaging</th>\n",
              "      <th>Others</th>\n",
              "      <th>Social, Finance, Analytics, Advertising</th>\n",
              "    </tr>\n",
              "  </thead>\n",
              "  <tbody>\n",
              "    <tr>\n",
              "      <th>1</th>\n",
              "      <td>3D</td>\n",
              "      <td>0</td>\n",
              "      <td>0</td>\n",
              "      <td>0</td>\n",
              "      <td>0</td>\n",
              "      <td>0</td>\n",
              "      <td>1</td>\n",
              "      <td>0</td>\n",
              "      <td>0</td>\n",
              "      <td>0</td>\n",
              "    </tr>\n",
              "    <tr>\n",
              "      <th>2</th>\n",
              "      <td>3D Printing</td>\n",
              "      <td>0</td>\n",
              "      <td>0</td>\n",
              "      <td>0</td>\n",
              "      <td>0</td>\n",
              "      <td>0</td>\n",
              "      <td>1</td>\n",
              "      <td>0</td>\n",
              "      <td>0</td>\n",
              "      <td>0</td>\n",
              "    </tr>\n",
              "    <tr>\n",
              "      <th>3</th>\n",
              "      <td>3D Technology</td>\n",
              "      <td>0</td>\n",
              "      <td>0</td>\n",
              "      <td>0</td>\n",
              "      <td>0</td>\n",
              "      <td>0</td>\n",
              "      <td>1</td>\n",
              "      <td>0</td>\n",
              "      <td>0</td>\n",
              "      <td>0</td>\n",
              "    </tr>\n",
              "    <tr>\n",
              "      <th>4</th>\n",
              "      <td>Accounting</td>\n",
              "      <td>0</td>\n",
              "      <td>0</td>\n",
              "      <td>0</td>\n",
              "      <td>0</td>\n",
              "      <td>0</td>\n",
              "      <td>0</td>\n",
              "      <td>0</td>\n",
              "      <td>0</td>\n",
              "      <td>1</td>\n",
              "    </tr>\n",
              "    <tr>\n",
              "      <th>5</th>\n",
              "      <td>Active Lifestyle</td>\n",
              "      <td>0</td>\n",
              "      <td>0</td>\n",
              "      <td>0</td>\n",
              "      <td>0</td>\n",
              "      <td>1</td>\n",
              "      <td>0</td>\n",
              "      <td>0</td>\n",
              "      <td>0</td>\n",
              "      <td>0</td>\n",
              "    </tr>\n",
              "    <tr>\n",
              "      <th>...</th>\n",
              "      <td>...</td>\n",
              "      <td>...</td>\n",
              "      <td>...</td>\n",
              "      <td>...</td>\n",
              "      <td>...</td>\n",
              "      <td>...</td>\n",
              "      <td>...</td>\n",
              "      <td>...</td>\n",
              "      <td>...</td>\n",
              "      <td>...</td>\n",
              "    </tr>\n",
              "    <tr>\n",
              "      <th>683</th>\n",
              "      <td>Wholesale</td>\n",
              "      <td>0</td>\n",
              "      <td>0</td>\n",
              "      <td>0</td>\n",
              "      <td>0</td>\n",
              "      <td>0</td>\n",
              "      <td>0</td>\n",
              "      <td>0</td>\n",
              "      <td>1</td>\n",
              "      <td>0</td>\n",
              "    </tr>\n",
              "    <tr>\n",
              "      <th>684</th>\n",
              "      <td>Wine And Spirits</td>\n",
              "      <td>0</td>\n",
              "      <td>0</td>\n",
              "      <td>0</td>\n",
              "      <td>1</td>\n",
              "      <td>0</td>\n",
              "      <td>0</td>\n",
              "      <td>0</td>\n",
              "      <td>0</td>\n",
              "      <td>0</td>\n",
              "    </tr>\n",
              "    <tr>\n",
              "      <th>685</th>\n",
              "      <td>Wireless</td>\n",
              "      <td>0</td>\n",
              "      <td>0</td>\n",
              "      <td>0</td>\n",
              "      <td>1</td>\n",
              "      <td>0</td>\n",
              "      <td>0</td>\n",
              "      <td>0</td>\n",
              "      <td>0</td>\n",
              "      <td>0</td>\n",
              "    </tr>\n",
              "    <tr>\n",
              "      <th>686</th>\n",
              "      <td>Women</td>\n",
              "      <td>0</td>\n",
              "      <td>0</td>\n",
              "      <td>0</td>\n",
              "      <td>0</td>\n",
              "      <td>0</td>\n",
              "      <td>0</td>\n",
              "      <td>0</td>\n",
              "      <td>1</td>\n",
              "      <td>0</td>\n",
              "    </tr>\n",
              "    <tr>\n",
              "      <th>687</th>\n",
              "      <td>Young Adults</td>\n",
              "      <td>0</td>\n",
              "      <td>0</td>\n",
              "      <td>0</td>\n",
              "      <td>0</td>\n",
              "      <td>0</td>\n",
              "      <td>0</td>\n",
              "      <td>0</td>\n",
              "      <td>1</td>\n",
              "      <td>0</td>\n",
              "    </tr>\n",
              "  </tbody>\n",
              "</table>\n",
              "<p>687 rows × 10 columns</p>\n",
              "</div>"
            ],
            "text/plain": [
              "        category_list  ...  Social, Finance, Analytics, Advertising\n",
              "1                  3D  ...                                        0\n",
              "2         3D Printing  ...                                        0\n",
              "3       3D Technology  ...                                        0\n",
              "4          Accounting  ...                                        1\n",
              "5    Active Lifestyle  ...                                        0\n",
              "..                ...  ...                                      ...\n",
              "683         Wholesale  ...                                        0\n",
              "684  Wine And Spirits  ...                                        0\n",
              "685          Wireless  ...                                        0\n",
              "686             Women  ...                                        0\n",
              "687      Young Adults  ...                                        0\n",
              "\n",
              "[687 rows x 10 columns]"
            ]
          },
          "metadata": {
            "tags": []
          },
          "execution_count": 172
        }
      ]
    },
    {
      "cell_type": "markdown",
      "metadata": {
        "id": "N3MaruWpMcjC",
        "colab_type": "text"
      },
      "source": [
        "Now we need to simplify the DataFrame into 2 columns for mergin with **top9_df**. So we use the melt () to converge the DataFrame into 2 columns"
      ]
    },
    {
      "cell_type": "code",
      "metadata": {
        "id": "yZNfBIO9bot7",
        "colab_type": "code",
        "colab": {}
      },
      "source": [
        "m=pd.melt(mapping,id_vars=['category_list'], var_name=['main_sector'])          #this creates 3 columns\n",
        "m=m[m.value==1]                                                                 #THis will fiter out the data\n",
        "m.drop('value',axis=1,inplace=True)                                             #This will reduce the columns to 2. THat is what is needed."
      ],
      "execution_count": 0,
      "outputs": []
    },
    {
      "cell_type": "code",
      "metadata": {
        "id": "jZZMZ-58d3jw",
        "colab_type": "code",
        "outputId": "0d72af39-e469-41b4-eed9-3f134511e106",
        "colab": {
          "base_uri": "https://localhost:8080/",
          "height": 0
        }
      },
      "source": [
        "top9_df=pd.merge(top9_df,m,how='left',left_on='primary_sector',right_on='category_list')    #we did this in order to avoid creating more column before merging\n",
        "# top9_df.drop('category_list',axis=1,inplace=True)\n",
        "top9_df"
      ],
      "execution_count": 174,
      "outputs": [
        {
          "output_type": "execute_result",
          "data": {
            "text/html": [
              "<div>\n",
              "<style scoped>\n",
              "    .dataframe tbody tr th:only-of-type {\n",
              "        vertical-align: middle;\n",
              "    }\n",
              "\n",
              "    .dataframe tbody tr th {\n",
              "        vertical-align: top;\n",
              "    }\n",
              "\n",
              "    .dataframe thead th {\n",
              "        text-align: right;\n",
              "    }\n",
              "</style>\n",
              "<table border=\"1\" class=\"dataframe\">\n",
              "  <thead>\n",
              "    <tr style=\"text-align: right;\">\n",
              "      <th></th>\n",
              "      <th>company_permalink</th>\n",
              "      <th>funding_round_permalink</th>\n",
              "      <th>funding_round_type</th>\n",
              "      <th>funded_at</th>\n",
              "      <th>raised_amount_usd</th>\n",
              "      <th>permalink</th>\n",
              "      <th>name</th>\n",
              "      <th>category_list_x</th>\n",
              "      <th>status</th>\n",
              "      <th>country_code</th>\n",
              "      <th>state_code</th>\n",
              "      <th>region</th>\n",
              "      <th>city</th>\n",
              "      <th>primary_sector</th>\n",
              "      <th>category_list_y</th>\n",
              "      <th>main_sector</th>\n",
              "    </tr>\n",
              "  </thead>\n",
              "  <tbody>\n",
              "    <tr>\n",
              "      <th>0</th>\n",
              "      <td>/organization/-fame</td>\n",
              "      <td>/funding-round/9a01d05418af9f794eebff7ace91f638</td>\n",
              "      <td>venture</td>\n",
              "      <td>05-01-2015</td>\n",
              "      <td>10000000.0</td>\n",
              "      <td>/organization/-fame</td>\n",
              "      <td>#fame</td>\n",
              "      <td>Media</td>\n",
              "      <td>operating</td>\n",
              "      <td>IND</td>\n",
              "      <td>16</td>\n",
              "      <td>Mumbai</td>\n",
              "      <td>Mumbai</td>\n",
              "      <td>Media</td>\n",
              "      <td>Media</td>\n",
              "      <td>Entertainment</td>\n",
              "    </tr>\n",
              "    <tr>\n",
              "      <th>1</th>\n",
              "      <td>/organization/0-6-com</td>\n",
              "      <td>/funding-round/5727accaeaa57461bd22a9bdd945382d</td>\n",
              "      <td>venture</td>\n",
              "      <td>19-03-2008</td>\n",
              "      <td>2000000.0</td>\n",
              "      <td>/organization/0-6-com</td>\n",
              "      <td>0-6.com</td>\n",
              "      <td>Curated Web</td>\n",
              "      <td>operating</td>\n",
              "      <td>CHN</td>\n",
              "      <td>22</td>\n",
              "      <td>Beijing</td>\n",
              "      <td>Beijing</td>\n",
              "      <td>Curated Web</td>\n",
              "      <td>Curated Web</td>\n",
              "      <td>News, Search and Messaging</td>\n",
              "    </tr>\n",
              "    <tr>\n",
              "      <th>2</th>\n",
              "      <td>/organization/0ndine-biomedical-inc</td>\n",
              "      <td>/funding-round/954b9499724b946ad8c396a57a5f3b72</td>\n",
              "      <td>venture</td>\n",
              "      <td>21-12-2009</td>\n",
              "      <td>719491.0</td>\n",
              "      <td>/organization/0ndine-biomedical-inc</td>\n",
              "      <td>Ondine Biomedical Inc.</td>\n",
              "      <td>Biotechnology</td>\n",
              "      <td>operating</td>\n",
              "      <td>CAN</td>\n",
              "      <td>BC</td>\n",
              "      <td>Vancouver</td>\n",
              "      <td>Vancouver</td>\n",
              "      <td>Biotechnology</td>\n",
              "      <td>Biotechnology</td>\n",
              "      <td>Cleantech / Semiconductors</td>\n",
              "    </tr>\n",
              "    <tr>\n",
              "      <th>3</th>\n",
              "      <td>/organization/0xdata</td>\n",
              "      <td>/funding-round/3bb2ee4a2d89251a10aaa735b1180e44</td>\n",
              "      <td>venture</td>\n",
              "      <td>09-11-2015</td>\n",
              "      <td>20000000.0</td>\n",
              "      <td>/organization/0xdata</td>\n",
              "      <td>H2O.ai</td>\n",
              "      <td>Analytics</td>\n",
              "      <td>operating</td>\n",
              "      <td>USA</td>\n",
              "      <td>CA</td>\n",
              "      <td>SF Bay Area</td>\n",
              "      <td>Mountain View</td>\n",
              "      <td>Analytics</td>\n",
              "      <td>Analytics</td>\n",
              "      <td>Social, Finance, Analytics, Advertising</td>\n",
              "    </tr>\n",
              "    <tr>\n",
              "      <th>4</th>\n",
              "      <td>/ORGANIZATION/0XDATA</td>\n",
              "      <td>/funding-round/ae2a174c06517c2394aed45006322a7e</td>\n",
              "      <td>venture</td>\n",
              "      <td>03-01-2013</td>\n",
              "      <td>1700000.0</td>\n",
              "      <td>/organization/0xdata</td>\n",
              "      <td>H2O.ai</td>\n",
              "      <td>Analytics</td>\n",
              "      <td>operating</td>\n",
              "      <td>USA</td>\n",
              "      <td>CA</td>\n",
              "      <td>SF Bay Area</td>\n",
              "      <td>Mountain View</td>\n",
              "      <td>Analytics</td>\n",
              "      <td>Analytics</td>\n",
              "      <td>Social, Finance, Analytics, Advertising</td>\n",
              "    </tr>\n",
              "    <tr>\n",
              "      <th>...</th>\n",
              "      <td>...</td>\n",
              "      <td>...</td>\n",
              "      <td>...</td>\n",
              "      <td>...</td>\n",
              "      <td>...</td>\n",
              "      <td>...</td>\n",
              "      <td>...</td>\n",
              "      <td>...</td>\n",
              "      <td>...</td>\n",
              "      <td>...</td>\n",
              "      <td>...</td>\n",
              "      <td>...</td>\n",
              "      <td>...</td>\n",
              "      <td>...</td>\n",
              "      <td>...</td>\n",
              "      <td>...</td>\n",
              "    </tr>\n",
              "    <tr>\n",
              "      <th>44378</th>\n",
              "      <td>/organization/zyomyx-inc</td>\n",
              "      <td>/funding-round/b4fce7f8a13267353d57db09099800e8</td>\n",
              "      <td>venture</td>\n",
              "      <td>11-07-2013</td>\n",
              "      <td>14219999.0</td>\n",
              "      <td>/organization/zyomyx-inc</td>\n",
              "      <td>ZYOMYX</td>\n",
              "      <td>Biotechnology</td>\n",
              "      <td>operating</td>\n",
              "      <td>USA</td>\n",
              "      <td>MO</td>\n",
              "      <td>MO - Other</td>\n",
              "      <td>Fremont</td>\n",
              "      <td>Biotechnology</td>\n",
              "      <td>Biotechnology</td>\n",
              "      <td>Cleantech / Semiconductors</td>\n",
              "    </tr>\n",
              "    <tr>\n",
              "      <th>44379</th>\n",
              "      <td>/ORGANIZATION/ZYOMYX-INC</td>\n",
              "      <td>/funding-round/ea5b21da6cf999ff4d5667431fe318d7</td>\n",
              "      <td>venture</td>\n",
              "      <td>29-01-2010</td>\n",
              "      <td>555016.0</td>\n",
              "      <td>/organization/zyomyx-inc</td>\n",
              "      <td>ZYOMYX</td>\n",
              "      <td>Biotechnology</td>\n",
              "      <td>operating</td>\n",
              "      <td>USA</td>\n",
              "      <td>MO</td>\n",
              "      <td>MO - Other</td>\n",
              "      <td>Fremont</td>\n",
              "      <td>Biotechnology</td>\n",
              "      <td>Biotechnology</td>\n",
              "      <td>Cleantech / Semiconductors</td>\n",
              "    </tr>\n",
              "    <tr>\n",
              "      <th>44380</th>\n",
              "      <td>/organization/zyrra</td>\n",
              "      <td>/funding-round/7a0fa791c96c9c447ee54662395beab9</td>\n",
              "      <td>venture</td>\n",
              "      <td>18-10-2012</td>\n",
              "      <td>140500.0</td>\n",
              "      <td>/organization/zyrra</td>\n",
              "      <td>Zyrra</td>\n",
              "      <td>E-Commerce</td>\n",
              "      <td>operating</td>\n",
              "      <td>USA</td>\n",
              "      <td>MA</td>\n",
              "      <td>Boston</td>\n",
              "      <td>Cambridge</td>\n",
              "      <td>E-Commerce</td>\n",
              "      <td>E-Commerce</td>\n",
              "      <td>Others</td>\n",
              "    </tr>\n",
              "    <tr>\n",
              "      <th>44381</th>\n",
              "      <td>/organization/zystor</td>\n",
              "      <td>/funding-round/7ea37c0ff4132b084832039a9380d34e</td>\n",
              "      <td>venture</td>\n",
              "      <td>16-12-2004</td>\n",
              "      <td>8500000.0</td>\n",
              "      <td>/organization/zystor</td>\n",
              "      <td>Zystor</td>\n",
              "      <td>Biotechnology</td>\n",
              "      <td>acquired</td>\n",
              "      <td>USA</td>\n",
              "      <td>WI</td>\n",
              "      <td>Milwaukee</td>\n",
              "      <td>Milwaukee</td>\n",
              "      <td>Biotechnology</td>\n",
              "      <td>Biotechnology</td>\n",
              "      <td>Cleantech / Semiconductors</td>\n",
              "    </tr>\n",
              "    <tr>\n",
              "      <th>44382</th>\n",
              "      <td>/ORGANIZATION/ZZNODE-SCIENCE-AND-TECHNOLOGY-CO...</td>\n",
              "      <td>/funding-round/171693e1e07e0230defd8fddb6de4515</td>\n",
              "      <td>venture</td>\n",
              "      <td>01-04-2012</td>\n",
              "      <td>1587301.0</td>\n",
              "      <td>/organization/zznode-science-and-technology-co...</td>\n",
              "      <td>ZZNode Science and Technology</td>\n",
              "      <td>Enterprise Software</td>\n",
              "      <td>operating</td>\n",
              "      <td>CHN</td>\n",
              "      <td>22</td>\n",
              "      <td>Beijing</td>\n",
              "      <td>Beijing</td>\n",
              "      <td>Enterprise Software</td>\n",
              "      <td>Enterprise Software</td>\n",
              "      <td>Others</td>\n",
              "    </tr>\n",
              "  </tbody>\n",
              "</table>\n",
              "<p>44383 rows × 16 columns</p>\n",
              "</div>"
            ],
            "text/plain": [
              "                                       company_permalink  ...                              main_sector\n",
              "0                                    /organization/-fame  ...                            Entertainment\n",
              "1                                  /organization/0-6-com  ...               News, Search and Messaging\n",
              "2                    /organization/0ndine-biomedical-inc  ...               Cleantech / Semiconductors\n",
              "3                                   /organization/0xdata  ...  Social, Finance, Analytics, Advertising\n",
              "4                                   /ORGANIZATION/0XDATA  ...  Social, Finance, Analytics, Advertising\n",
              "...                                                  ...  ...                                      ...\n",
              "44378                           /organization/zyomyx-inc  ...               Cleantech / Semiconductors\n",
              "44379                           /ORGANIZATION/ZYOMYX-INC  ...               Cleantech / Semiconductors\n",
              "44380                                /organization/zyrra  ...                                   Others\n",
              "44381                               /organization/zystor  ...               Cleantech / Semiconductors\n",
              "44382  /ORGANIZATION/ZZNODE-SCIENCE-AND-TECHNOLOGY-CO...  ...                                   Others\n",
              "\n",
              "[44383 rows x 16 columns]"
            ]
          },
          "metadata": {
            "tags": []
          },
          "execution_count": 174
        }
      ]
    },
    {
      "cell_type": "markdown",
      "metadata": {
        "id": "AcOdzsU0NH4u",
        "colab_type": "text"
      },
      "source": [
        "Here we will drop the extra columns that was imported during merging."
      ]
    },
    {
      "cell_type": "code",
      "metadata": {
        "id": "jwMN3y14hdOf",
        "colab_type": "code",
        "outputId": "9912167d-5f74-4aa9-a4d3-82ae9b93de46",
        "colab": {
          "base_uri": "https://localhost:8080/",
          "height": 0
        }
      },
      "source": [
        "top9_df.drop('category_list_y',axis=1,inplace=True)\n",
        "top9_df"
      ],
      "execution_count": 175,
      "outputs": [
        {
          "output_type": "execute_result",
          "data": {
            "text/html": [
              "<div>\n",
              "<style scoped>\n",
              "    .dataframe tbody tr th:only-of-type {\n",
              "        vertical-align: middle;\n",
              "    }\n",
              "\n",
              "    .dataframe tbody tr th {\n",
              "        vertical-align: top;\n",
              "    }\n",
              "\n",
              "    .dataframe thead th {\n",
              "        text-align: right;\n",
              "    }\n",
              "</style>\n",
              "<table border=\"1\" class=\"dataframe\">\n",
              "  <thead>\n",
              "    <tr style=\"text-align: right;\">\n",
              "      <th></th>\n",
              "      <th>company_permalink</th>\n",
              "      <th>funding_round_permalink</th>\n",
              "      <th>funding_round_type</th>\n",
              "      <th>funded_at</th>\n",
              "      <th>raised_amount_usd</th>\n",
              "      <th>permalink</th>\n",
              "      <th>name</th>\n",
              "      <th>category_list_x</th>\n",
              "      <th>status</th>\n",
              "      <th>country_code</th>\n",
              "      <th>state_code</th>\n",
              "      <th>region</th>\n",
              "      <th>city</th>\n",
              "      <th>primary_sector</th>\n",
              "      <th>main_sector</th>\n",
              "    </tr>\n",
              "  </thead>\n",
              "  <tbody>\n",
              "    <tr>\n",
              "      <th>0</th>\n",
              "      <td>/organization/-fame</td>\n",
              "      <td>/funding-round/9a01d05418af9f794eebff7ace91f638</td>\n",
              "      <td>venture</td>\n",
              "      <td>05-01-2015</td>\n",
              "      <td>10000000.0</td>\n",
              "      <td>/organization/-fame</td>\n",
              "      <td>#fame</td>\n",
              "      <td>Media</td>\n",
              "      <td>operating</td>\n",
              "      <td>IND</td>\n",
              "      <td>16</td>\n",
              "      <td>Mumbai</td>\n",
              "      <td>Mumbai</td>\n",
              "      <td>Media</td>\n",
              "      <td>Entertainment</td>\n",
              "    </tr>\n",
              "    <tr>\n",
              "      <th>1</th>\n",
              "      <td>/organization/0-6-com</td>\n",
              "      <td>/funding-round/5727accaeaa57461bd22a9bdd945382d</td>\n",
              "      <td>venture</td>\n",
              "      <td>19-03-2008</td>\n",
              "      <td>2000000.0</td>\n",
              "      <td>/organization/0-6-com</td>\n",
              "      <td>0-6.com</td>\n",
              "      <td>Curated Web</td>\n",
              "      <td>operating</td>\n",
              "      <td>CHN</td>\n",
              "      <td>22</td>\n",
              "      <td>Beijing</td>\n",
              "      <td>Beijing</td>\n",
              "      <td>Curated Web</td>\n",
              "      <td>News, Search and Messaging</td>\n",
              "    </tr>\n",
              "    <tr>\n",
              "      <th>2</th>\n",
              "      <td>/organization/0ndine-biomedical-inc</td>\n",
              "      <td>/funding-round/954b9499724b946ad8c396a57a5f3b72</td>\n",
              "      <td>venture</td>\n",
              "      <td>21-12-2009</td>\n",
              "      <td>719491.0</td>\n",
              "      <td>/organization/0ndine-biomedical-inc</td>\n",
              "      <td>Ondine Biomedical Inc.</td>\n",
              "      <td>Biotechnology</td>\n",
              "      <td>operating</td>\n",
              "      <td>CAN</td>\n",
              "      <td>BC</td>\n",
              "      <td>Vancouver</td>\n",
              "      <td>Vancouver</td>\n",
              "      <td>Biotechnology</td>\n",
              "      <td>Cleantech / Semiconductors</td>\n",
              "    </tr>\n",
              "    <tr>\n",
              "      <th>3</th>\n",
              "      <td>/organization/0xdata</td>\n",
              "      <td>/funding-round/3bb2ee4a2d89251a10aaa735b1180e44</td>\n",
              "      <td>venture</td>\n",
              "      <td>09-11-2015</td>\n",
              "      <td>20000000.0</td>\n",
              "      <td>/organization/0xdata</td>\n",
              "      <td>H2O.ai</td>\n",
              "      <td>Analytics</td>\n",
              "      <td>operating</td>\n",
              "      <td>USA</td>\n",
              "      <td>CA</td>\n",
              "      <td>SF Bay Area</td>\n",
              "      <td>Mountain View</td>\n",
              "      <td>Analytics</td>\n",
              "      <td>Social, Finance, Analytics, Advertising</td>\n",
              "    </tr>\n",
              "    <tr>\n",
              "      <th>4</th>\n",
              "      <td>/ORGANIZATION/0XDATA</td>\n",
              "      <td>/funding-round/ae2a174c06517c2394aed45006322a7e</td>\n",
              "      <td>venture</td>\n",
              "      <td>03-01-2013</td>\n",
              "      <td>1700000.0</td>\n",
              "      <td>/organization/0xdata</td>\n",
              "      <td>H2O.ai</td>\n",
              "      <td>Analytics</td>\n",
              "      <td>operating</td>\n",
              "      <td>USA</td>\n",
              "      <td>CA</td>\n",
              "      <td>SF Bay Area</td>\n",
              "      <td>Mountain View</td>\n",
              "      <td>Analytics</td>\n",
              "      <td>Social, Finance, Analytics, Advertising</td>\n",
              "    </tr>\n",
              "    <tr>\n",
              "      <th>...</th>\n",
              "      <td>...</td>\n",
              "      <td>...</td>\n",
              "      <td>...</td>\n",
              "      <td>...</td>\n",
              "      <td>...</td>\n",
              "      <td>...</td>\n",
              "      <td>...</td>\n",
              "      <td>...</td>\n",
              "      <td>...</td>\n",
              "      <td>...</td>\n",
              "      <td>...</td>\n",
              "      <td>...</td>\n",
              "      <td>...</td>\n",
              "      <td>...</td>\n",
              "      <td>...</td>\n",
              "    </tr>\n",
              "    <tr>\n",
              "      <th>44378</th>\n",
              "      <td>/organization/zyomyx-inc</td>\n",
              "      <td>/funding-round/b4fce7f8a13267353d57db09099800e8</td>\n",
              "      <td>venture</td>\n",
              "      <td>11-07-2013</td>\n",
              "      <td>14219999.0</td>\n",
              "      <td>/organization/zyomyx-inc</td>\n",
              "      <td>ZYOMYX</td>\n",
              "      <td>Biotechnology</td>\n",
              "      <td>operating</td>\n",
              "      <td>USA</td>\n",
              "      <td>MO</td>\n",
              "      <td>MO - Other</td>\n",
              "      <td>Fremont</td>\n",
              "      <td>Biotechnology</td>\n",
              "      <td>Cleantech / Semiconductors</td>\n",
              "    </tr>\n",
              "    <tr>\n",
              "      <th>44379</th>\n",
              "      <td>/ORGANIZATION/ZYOMYX-INC</td>\n",
              "      <td>/funding-round/ea5b21da6cf999ff4d5667431fe318d7</td>\n",
              "      <td>venture</td>\n",
              "      <td>29-01-2010</td>\n",
              "      <td>555016.0</td>\n",
              "      <td>/organization/zyomyx-inc</td>\n",
              "      <td>ZYOMYX</td>\n",
              "      <td>Biotechnology</td>\n",
              "      <td>operating</td>\n",
              "      <td>USA</td>\n",
              "      <td>MO</td>\n",
              "      <td>MO - Other</td>\n",
              "      <td>Fremont</td>\n",
              "      <td>Biotechnology</td>\n",
              "      <td>Cleantech / Semiconductors</td>\n",
              "    </tr>\n",
              "    <tr>\n",
              "      <th>44380</th>\n",
              "      <td>/organization/zyrra</td>\n",
              "      <td>/funding-round/7a0fa791c96c9c447ee54662395beab9</td>\n",
              "      <td>venture</td>\n",
              "      <td>18-10-2012</td>\n",
              "      <td>140500.0</td>\n",
              "      <td>/organization/zyrra</td>\n",
              "      <td>Zyrra</td>\n",
              "      <td>E-Commerce</td>\n",
              "      <td>operating</td>\n",
              "      <td>USA</td>\n",
              "      <td>MA</td>\n",
              "      <td>Boston</td>\n",
              "      <td>Cambridge</td>\n",
              "      <td>E-Commerce</td>\n",
              "      <td>Others</td>\n",
              "    </tr>\n",
              "    <tr>\n",
              "      <th>44381</th>\n",
              "      <td>/organization/zystor</td>\n",
              "      <td>/funding-round/7ea37c0ff4132b084832039a9380d34e</td>\n",
              "      <td>venture</td>\n",
              "      <td>16-12-2004</td>\n",
              "      <td>8500000.0</td>\n",
              "      <td>/organization/zystor</td>\n",
              "      <td>Zystor</td>\n",
              "      <td>Biotechnology</td>\n",
              "      <td>acquired</td>\n",
              "      <td>USA</td>\n",
              "      <td>WI</td>\n",
              "      <td>Milwaukee</td>\n",
              "      <td>Milwaukee</td>\n",
              "      <td>Biotechnology</td>\n",
              "      <td>Cleantech / Semiconductors</td>\n",
              "    </tr>\n",
              "    <tr>\n",
              "      <th>44382</th>\n",
              "      <td>/ORGANIZATION/ZZNODE-SCIENCE-AND-TECHNOLOGY-CO...</td>\n",
              "      <td>/funding-round/171693e1e07e0230defd8fddb6de4515</td>\n",
              "      <td>venture</td>\n",
              "      <td>01-04-2012</td>\n",
              "      <td>1587301.0</td>\n",
              "      <td>/organization/zznode-science-and-technology-co...</td>\n",
              "      <td>ZZNode Science and Technology</td>\n",
              "      <td>Enterprise Software</td>\n",
              "      <td>operating</td>\n",
              "      <td>CHN</td>\n",
              "      <td>22</td>\n",
              "      <td>Beijing</td>\n",
              "      <td>Beijing</td>\n",
              "      <td>Enterprise Software</td>\n",
              "      <td>Others</td>\n",
              "    </tr>\n",
              "  </tbody>\n",
              "</table>\n",
              "<p>44383 rows × 15 columns</p>\n",
              "</div>"
            ],
            "text/plain": [
              "                                       company_permalink  ...                              main_sector\n",
              "0                                    /organization/-fame  ...                            Entertainment\n",
              "1                                  /organization/0-6-com  ...               News, Search and Messaging\n",
              "2                    /organization/0ndine-biomedical-inc  ...               Cleantech / Semiconductors\n",
              "3                                   /organization/0xdata  ...  Social, Finance, Analytics, Advertising\n",
              "4                                   /ORGANIZATION/0XDATA  ...  Social, Finance, Analytics, Advertising\n",
              "...                                                  ...  ...                                      ...\n",
              "44378                           /organization/zyomyx-inc  ...               Cleantech / Semiconductors\n",
              "44379                           /ORGANIZATION/ZYOMYX-INC  ...               Cleantech / Semiconductors\n",
              "44380                                /organization/zyrra  ...                                   Others\n",
              "44381                               /organization/zystor  ...               Cleantech / Semiconductors\n",
              "44382  /ORGANIZATION/ZZNODE-SCIENCE-AND-TECHNOLOGY-CO...  ...                                   Others\n",
              "\n",
              "[44383 rows x 15 columns]"
            ]
          },
          "metadata": {
            "tags": []
          },
          "execution_count": 175
        }
      ]
    },
    {
      "cell_type": "markdown",
      "metadata": {
        "id": "88rrhHItjaM6",
        "colab_type": "text"
      },
      "source": [
        "#**CheckPoint 5:** _$Sector$ $Analysis_2$_"
      ]
    },
    {
      "cell_type": "markdown",
      "metadata": {
        "id": "82dZpou3N3hj",
        "colab_type": "text"
      },
      "source": [
        "Here we load all the data of top3 countries into the same different dataFrames namely: **D1,D2,D3**"
      ]
    },
    {
      "cell_type": "code",
      "metadata": {
        "id": "2ZgJLAhujla6",
        "colab_type": "code",
        "outputId": "a1c0664b-0fda-413f-e3ce-fd607debbd61",
        "colab": {
          "base_uri": "https://localhost:8080/",
          "height": 622
        }
      },
      "source": [
        "D1=top9_df[top9_df['country_code']=='USA']\n",
        "D1"
      ],
      "execution_count": 176,
      "outputs": [
        {
          "output_type": "execute_result",
          "data": {
            "text/html": [
              "<div>\n",
              "<style scoped>\n",
              "    .dataframe tbody tr th:only-of-type {\n",
              "        vertical-align: middle;\n",
              "    }\n",
              "\n",
              "    .dataframe tbody tr th {\n",
              "        vertical-align: top;\n",
              "    }\n",
              "\n",
              "    .dataframe thead th {\n",
              "        text-align: right;\n",
              "    }\n",
              "</style>\n",
              "<table border=\"1\" class=\"dataframe\">\n",
              "  <thead>\n",
              "    <tr style=\"text-align: right;\">\n",
              "      <th></th>\n",
              "      <th>company_permalink</th>\n",
              "      <th>funding_round_permalink</th>\n",
              "      <th>funding_round_type</th>\n",
              "      <th>funded_at</th>\n",
              "      <th>raised_amount_usd</th>\n",
              "      <th>permalink</th>\n",
              "      <th>name</th>\n",
              "      <th>category_list_x</th>\n",
              "      <th>status</th>\n",
              "      <th>country_code</th>\n",
              "      <th>state_code</th>\n",
              "      <th>region</th>\n",
              "      <th>city</th>\n",
              "      <th>primary_sector</th>\n",
              "      <th>main_sector</th>\n",
              "    </tr>\n",
              "  </thead>\n",
              "  <tbody>\n",
              "    <tr>\n",
              "      <th>3</th>\n",
              "      <td>/organization/0xdata</td>\n",
              "      <td>/funding-round/3bb2ee4a2d89251a10aaa735b1180e44</td>\n",
              "      <td>venture</td>\n",
              "      <td>09-11-2015</td>\n",
              "      <td>20000000.0</td>\n",
              "      <td>/organization/0xdata</td>\n",
              "      <td>H2O.ai</td>\n",
              "      <td>Analytics</td>\n",
              "      <td>operating</td>\n",
              "      <td>USA</td>\n",
              "      <td>CA</td>\n",
              "      <td>SF Bay Area</td>\n",
              "      <td>Mountain View</td>\n",
              "      <td>Analytics</td>\n",
              "      <td>Social, Finance, Analytics, Advertising</td>\n",
              "    </tr>\n",
              "    <tr>\n",
              "      <th>4</th>\n",
              "      <td>/ORGANIZATION/0XDATA</td>\n",
              "      <td>/funding-round/ae2a174c06517c2394aed45006322a7e</td>\n",
              "      <td>venture</td>\n",
              "      <td>03-01-2013</td>\n",
              "      <td>1700000.0</td>\n",
              "      <td>/organization/0xdata</td>\n",
              "      <td>H2O.ai</td>\n",
              "      <td>Analytics</td>\n",
              "      <td>operating</td>\n",
              "      <td>USA</td>\n",
              "      <td>CA</td>\n",
              "      <td>SF Bay Area</td>\n",
              "      <td>Mountain View</td>\n",
              "      <td>Analytics</td>\n",
              "      <td>Social, Finance, Analytics, Advertising</td>\n",
              "    </tr>\n",
              "    <tr>\n",
              "      <th>5</th>\n",
              "      <td>/organization/0xdata</td>\n",
              "      <td>/funding-round/e1cfcbe1bdf4c70277c5f29a3482f24e</td>\n",
              "      <td>venture</td>\n",
              "      <td>19-07-2014</td>\n",
              "      <td>8900000.0</td>\n",
              "      <td>/organization/0xdata</td>\n",
              "      <td>H2O.ai</td>\n",
              "      <td>Analytics</td>\n",
              "      <td>operating</td>\n",
              "      <td>USA</td>\n",
              "      <td>CA</td>\n",
              "      <td>SF Bay Area</td>\n",
              "      <td>Mountain View</td>\n",
              "      <td>Analytics</td>\n",
              "      <td>Social, Finance, Analytics, Advertising</td>\n",
              "    </tr>\n",
              "    <tr>\n",
              "      <th>6</th>\n",
              "      <td>/organization/1-mainstream</td>\n",
              "      <td>/funding-round/b952cbaf401f310927430c97b68162ea</td>\n",
              "      <td>venture</td>\n",
              "      <td>17-03-2015</td>\n",
              "      <td>5000000.0</td>\n",
              "      <td>/organization/1-mainstream</td>\n",
              "      <td>1 Mainstream</td>\n",
              "      <td>Apps|Cable|Distribution|Software</td>\n",
              "      <td>acquired</td>\n",
              "      <td>USA</td>\n",
              "      <td>CA</td>\n",
              "      <td>SF Bay Area</td>\n",
              "      <td>Cupertino</td>\n",
              "      <td>Apps</td>\n",
              "      <td>News, Search and Messaging</td>\n",
              "    </tr>\n",
              "    <tr>\n",
              "      <th>8</th>\n",
              "      <td>/organization/1000memories</td>\n",
              "      <td>/funding-round/502bd0e50c27616995e4bdad24605ef8</td>\n",
              "      <td>venture</td>\n",
              "      <td>16-02-2011</td>\n",
              "      <td>2520000.0</td>\n",
              "      <td>/organization/1000memories</td>\n",
              "      <td>1000memories</td>\n",
              "      <td>Curated Web</td>\n",
              "      <td>acquired</td>\n",
              "      <td>USA</td>\n",
              "      <td>CA</td>\n",
              "      <td>SF Bay Area</td>\n",
              "      <td>San Francisco</td>\n",
              "      <td>Curated Web</td>\n",
              "      <td>News, Search and Messaging</td>\n",
              "    </tr>\n",
              "    <tr>\n",
              "      <th>...</th>\n",
              "      <td>...</td>\n",
              "      <td>...</td>\n",
              "      <td>...</td>\n",
              "      <td>...</td>\n",
              "      <td>...</td>\n",
              "      <td>...</td>\n",
              "      <td>...</td>\n",
              "      <td>...</td>\n",
              "      <td>...</td>\n",
              "      <td>...</td>\n",
              "      <td>...</td>\n",
              "      <td>...</td>\n",
              "      <td>...</td>\n",
              "      <td>...</td>\n",
              "      <td>...</td>\n",
              "    </tr>\n",
              "    <tr>\n",
              "      <th>44377</th>\n",
              "      <td>/organization/zyomyx-inc</td>\n",
              "      <td>/funding-round/4191cb5258d3863b0212d1083881da64</td>\n",
              "      <td>venture</td>\n",
              "      <td>30-06-2013</td>\n",
              "      <td>12000000.0</td>\n",
              "      <td>/organization/zyomyx-inc</td>\n",
              "      <td>ZYOMYX</td>\n",
              "      <td>Biotechnology</td>\n",
              "      <td>operating</td>\n",
              "      <td>USA</td>\n",
              "      <td>MO</td>\n",
              "      <td>MO - Other</td>\n",
              "      <td>Fremont</td>\n",
              "      <td>Biotechnology</td>\n",
              "      <td>Cleantech / Semiconductors</td>\n",
              "    </tr>\n",
              "    <tr>\n",
              "      <th>44378</th>\n",
              "      <td>/organization/zyomyx-inc</td>\n",
              "      <td>/funding-round/b4fce7f8a13267353d57db09099800e8</td>\n",
              "      <td>venture</td>\n",
              "      <td>11-07-2013</td>\n",
              "      <td>14219999.0</td>\n",
              "      <td>/organization/zyomyx-inc</td>\n",
              "      <td>ZYOMYX</td>\n",
              "      <td>Biotechnology</td>\n",
              "      <td>operating</td>\n",
              "      <td>USA</td>\n",
              "      <td>MO</td>\n",
              "      <td>MO - Other</td>\n",
              "      <td>Fremont</td>\n",
              "      <td>Biotechnology</td>\n",
              "      <td>Cleantech / Semiconductors</td>\n",
              "    </tr>\n",
              "    <tr>\n",
              "      <th>44379</th>\n",
              "      <td>/ORGANIZATION/ZYOMYX-INC</td>\n",
              "      <td>/funding-round/ea5b21da6cf999ff4d5667431fe318d7</td>\n",
              "      <td>venture</td>\n",
              "      <td>29-01-2010</td>\n",
              "      <td>555016.0</td>\n",
              "      <td>/organization/zyomyx-inc</td>\n",
              "      <td>ZYOMYX</td>\n",
              "      <td>Biotechnology</td>\n",
              "      <td>operating</td>\n",
              "      <td>USA</td>\n",
              "      <td>MO</td>\n",
              "      <td>MO - Other</td>\n",
              "      <td>Fremont</td>\n",
              "      <td>Biotechnology</td>\n",
              "      <td>Cleantech / Semiconductors</td>\n",
              "    </tr>\n",
              "    <tr>\n",
              "      <th>44380</th>\n",
              "      <td>/organization/zyrra</td>\n",
              "      <td>/funding-round/7a0fa791c96c9c447ee54662395beab9</td>\n",
              "      <td>venture</td>\n",
              "      <td>18-10-2012</td>\n",
              "      <td>140500.0</td>\n",
              "      <td>/organization/zyrra</td>\n",
              "      <td>Zyrra</td>\n",
              "      <td>E-Commerce</td>\n",
              "      <td>operating</td>\n",
              "      <td>USA</td>\n",
              "      <td>MA</td>\n",
              "      <td>Boston</td>\n",
              "      <td>Cambridge</td>\n",
              "      <td>E-Commerce</td>\n",
              "      <td>Others</td>\n",
              "    </tr>\n",
              "    <tr>\n",
              "      <th>44381</th>\n",
              "      <td>/organization/zystor</td>\n",
              "      <td>/funding-round/7ea37c0ff4132b084832039a9380d34e</td>\n",
              "      <td>venture</td>\n",
              "      <td>16-12-2004</td>\n",
              "      <td>8500000.0</td>\n",
              "      <td>/organization/zystor</td>\n",
              "      <td>Zystor</td>\n",
              "      <td>Biotechnology</td>\n",
              "      <td>acquired</td>\n",
              "      <td>USA</td>\n",
              "      <td>WI</td>\n",
              "      <td>Milwaukee</td>\n",
              "      <td>Milwaukee</td>\n",
              "      <td>Biotechnology</td>\n",
              "      <td>Cleantech / Semiconductors</td>\n",
              "    </tr>\n",
              "  </tbody>\n",
              "</table>\n",
              "<p>36139 rows × 15 columns</p>\n",
              "</div>"
            ],
            "text/plain": [
              "                company_permalink  ...                              main_sector\n",
              "3            /organization/0xdata  ...  Social, Finance, Analytics, Advertising\n",
              "4            /ORGANIZATION/0XDATA  ...  Social, Finance, Analytics, Advertising\n",
              "5            /organization/0xdata  ...  Social, Finance, Analytics, Advertising\n",
              "6      /organization/1-mainstream  ...               News, Search and Messaging\n",
              "8      /organization/1000memories  ...               News, Search and Messaging\n",
              "...                           ...  ...                                      ...\n",
              "44377    /organization/zyomyx-inc  ...               Cleantech / Semiconductors\n",
              "44378    /organization/zyomyx-inc  ...               Cleantech / Semiconductors\n",
              "44379    /ORGANIZATION/ZYOMYX-INC  ...               Cleantech / Semiconductors\n",
              "44380         /organization/zyrra  ...                                   Others\n",
              "44381        /organization/zystor  ...               Cleantech / Semiconductors\n",
              "\n",
              "[36139 rows x 15 columns]"
            ]
          },
          "metadata": {
            "tags": []
          },
          "execution_count": 176
        }
      ]
    },
    {
      "cell_type": "code",
      "metadata": {
        "id": "J90S3fUNclHl",
        "colab_type": "code",
        "outputId": "9e04885d-5f4d-4f68-fb72-7e15f043cd62",
        "colab": {
          "base_uri": "https://localhost:8080/",
          "height": 655
        }
      },
      "source": [
        "D2=top9_df[top9_df['country_code']=='GBR']\n",
        "D2"
      ],
      "execution_count": 177,
      "outputs": [
        {
          "output_type": "execute_result",
          "data": {
            "text/html": [
              "<div>\n",
              "<style scoped>\n",
              "    .dataframe tbody tr th:only-of-type {\n",
              "        vertical-align: middle;\n",
              "    }\n",
              "\n",
              "    .dataframe tbody tr th {\n",
              "        vertical-align: top;\n",
              "    }\n",
              "\n",
              "    .dataframe thead th {\n",
              "        text-align: right;\n",
              "    }\n",
              "</style>\n",
              "<table border=\"1\" class=\"dataframe\">\n",
              "  <thead>\n",
              "    <tr style=\"text-align: right;\">\n",
              "      <th></th>\n",
              "      <th>company_permalink</th>\n",
              "      <th>funding_round_permalink</th>\n",
              "      <th>funding_round_type</th>\n",
              "      <th>funded_at</th>\n",
              "      <th>raised_amount_usd</th>\n",
              "      <th>permalink</th>\n",
              "      <th>name</th>\n",
              "      <th>category_list_x</th>\n",
              "      <th>status</th>\n",
              "      <th>country_code</th>\n",
              "      <th>state_code</th>\n",
              "      <th>region</th>\n",
              "      <th>city</th>\n",
              "      <th>primary_sector</th>\n",
              "      <th>main_sector</th>\n",
              "    </tr>\n",
              "  </thead>\n",
              "  <tbody>\n",
              "    <tr>\n",
              "      <th>7</th>\n",
              "      <td>/organization/10-minutes-with</td>\n",
              "      <td>/funding-round/0faccbbcc5818dc5326469f13f5a8ac8</td>\n",
              "      <td>venture</td>\n",
              "      <td>09-10-2014</td>\n",
              "      <td>4000000.0</td>\n",
              "      <td>/organization/10-minutes-with</td>\n",
              "      <td>10 Minutes With</td>\n",
              "      <td>Education</td>\n",
              "      <td>operating</td>\n",
              "      <td>GBR</td>\n",
              "      <td>H9</td>\n",
              "      <td>London</td>\n",
              "      <td>London</td>\n",
              "      <td>Education</td>\n",
              "      <td>Others</td>\n",
              "    </tr>\n",
              "    <tr>\n",
              "      <th>123</th>\n",
              "      <td>/organization/31dover</td>\n",
              "      <td>/funding-round/b95cb5a74632e596e19a845e405ef14b</td>\n",
              "      <td>venture</td>\n",
              "      <td>01-03-2014</td>\n",
              "      <td>2274716.0</td>\n",
              "      <td>/organization/31dover</td>\n",
              "      <td>31Dover</td>\n",
              "      <td>E-Commerce|Wine And Spirits</td>\n",
              "      <td>operating</td>\n",
              "      <td>GBR</td>\n",
              "      <td>H9</td>\n",
              "      <td>London</td>\n",
              "      <td>London</td>\n",
              "      <td>E-Commerce</td>\n",
              "      <td>Others</td>\n",
              "    </tr>\n",
              "    <tr>\n",
              "      <th>137</th>\n",
              "      <td>/ORGANIZATION/365SCORES</td>\n",
              "      <td>/funding-round/48212f931f542fdef78810bc87aef086</td>\n",
              "      <td>venture</td>\n",
              "      <td>29-09-2014</td>\n",
              "      <td>5500000.0</td>\n",
              "      <td>/organization/365scores</td>\n",
              "      <td>365Scores</td>\n",
              "      <td>Android|Apps|iPhone|Mobile|Sports</td>\n",
              "      <td>operating</td>\n",
              "      <td>GBR</td>\n",
              "      <td>H9</td>\n",
              "      <td>London</td>\n",
              "      <td>London</td>\n",
              "      <td>Android</td>\n",
              "      <td>Social, Finance, Analytics, Advertising</td>\n",
              "    </tr>\n",
              "    <tr>\n",
              "      <th>138</th>\n",
              "      <td>/organization/365scores</td>\n",
              "      <td>/funding-round/493f78ea0ca33cfac48a57b2351b154b</td>\n",
              "      <td>venture</td>\n",
              "      <td>28-01-2013</td>\n",
              "      <td>1200000.0</td>\n",
              "      <td>/organization/365scores</td>\n",
              "      <td>365Scores</td>\n",
              "      <td>Android|Apps|iPhone|Mobile|Sports</td>\n",
              "      <td>operating</td>\n",
              "      <td>GBR</td>\n",
              "      <td>H9</td>\n",
              "      <td>London</td>\n",
              "      <td>London</td>\n",
              "      <td>Android</td>\n",
              "      <td>Social, Finance, Analytics, Advertising</td>\n",
              "    </tr>\n",
              "    <tr>\n",
              "      <th>197</th>\n",
              "      <td>/organization/3sun</td>\n",
              "      <td>/funding-round/f1d8c6491b45bcf2a35ef1cf5cae96c4</td>\n",
              "      <td>venture</td>\n",
              "      <td>03-03-2014</td>\n",
              "      <td>15152514.0</td>\n",
              "      <td>/organization/3sun</td>\n",
              "      <td>3sun</td>\n",
              "      <td>Clean Technology</td>\n",
              "      <td>operating</td>\n",
              "      <td>GBR</td>\n",
              "      <td>I9</td>\n",
              "      <td>NaN</td>\n",
              "      <td>NaN</td>\n",
              "      <td>Clean Technology</td>\n",
              "      <td>Cleantech / Semiconductors</td>\n",
              "    </tr>\n",
              "    <tr>\n",
              "      <th>...</th>\n",
              "      <td>...</td>\n",
              "      <td>...</td>\n",
              "      <td>...</td>\n",
              "      <td>...</td>\n",
              "      <td>...</td>\n",
              "      <td>...</td>\n",
              "      <td>...</td>\n",
              "      <td>...</td>\n",
              "      <td>...</td>\n",
              "      <td>...</td>\n",
              "      <td>...</td>\n",
              "      <td>...</td>\n",
              "      <td>...</td>\n",
              "      <td>...</td>\n",
              "      <td>...</td>\n",
              "    </tr>\n",
              "    <tr>\n",
              "      <th>44303</th>\n",
              "      <td>/ORGANIZATION/ZUBKA</td>\n",
              "      <td>/funding-round/37fbbea761f614e5a3254d314cb2eba1</td>\n",
              "      <td>venture</td>\n",
              "      <td>09-02-2007</td>\n",
              "      <td>3919186.0</td>\n",
              "      <td>/organization/zubka</td>\n",
              "      <td>Zubka</td>\n",
              "      <td>Consulting</td>\n",
              "      <td>closed</td>\n",
              "      <td>GBR</td>\n",
              "      <td>B9</td>\n",
              "      <td>NaN</td>\n",
              "      <td>NaN</td>\n",
              "      <td>Consulting</td>\n",
              "      <td>Social, Finance, Analytics, Advertising</td>\n",
              "    </tr>\n",
              "    <tr>\n",
              "      <th>44334</th>\n",
              "      <td>/ORGANIZATION/ZUTUX</td>\n",
              "      <td>/funding-round/281d898f0e2f5d0d964fbde6f3a10313</td>\n",
              "      <td>venture</td>\n",
              "      <td>16-04-2012</td>\n",
              "      <td>1503926.0</td>\n",
              "      <td>/organization/zutux</td>\n",
              "      <td>Zutux</td>\n",
              "      <td>E-Commerce|Furniture</td>\n",
              "      <td>operating</td>\n",
              "      <td>GBR</td>\n",
              "      <td>I2</td>\n",
              "      <td>Manchester</td>\n",
              "      <td>Manchester</td>\n",
              "      <td>E-Commerce</td>\n",
              "      <td>Others</td>\n",
              "    </tr>\n",
              "    <tr>\n",
              "      <th>44364</th>\n",
              "      <td>/organization/zyncd</td>\n",
              "      <td>/funding-round/3549f5a481f83610044a4226926acf5a</td>\n",
              "      <td>venture</td>\n",
              "      <td>01-09-2014</td>\n",
              "      <td>144451.0</td>\n",
              "      <td>/organization/zyncd</td>\n",
              "      <td>Zyncd</td>\n",
              "      <td>Crowdsourcing|Knowledge Management</td>\n",
              "      <td>operating</td>\n",
              "      <td>GBR</td>\n",
              "      <td>H9</td>\n",
              "      <td>London</td>\n",
              "      <td>London</td>\n",
              "      <td>Crowdsourcing</td>\n",
              "      <td>Social, Finance, Analytics, Advertising</td>\n",
              "    </tr>\n",
              "    <tr>\n",
              "      <th>44375</th>\n",
              "      <td>/organization/zynstra</td>\n",
              "      <td>/funding-round/05f43b37c270f5919578281ce803de8f</td>\n",
              "      <td>venture</td>\n",
              "      <td>09-07-2014</td>\n",
              "      <td>8400000.0</td>\n",
              "      <td>/organization/zynstra</td>\n",
              "      <td>Zynstra</td>\n",
              "      <td>Software</td>\n",
              "      <td>operating</td>\n",
              "      <td>GBR</td>\n",
              "      <td>A4</td>\n",
              "      <td>Bath</td>\n",
              "      <td>Bath</td>\n",
              "      <td>Software</td>\n",
              "      <td>Others</td>\n",
              "    </tr>\n",
              "    <tr>\n",
              "      <th>44376</th>\n",
              "      <td>/ORGANIZATION/ZYNSTRA</td>\n",
              "      <td>/funding-round/129127802dd48be42d6cd45f65895245</td>\n",
              "      <td>venture</td>\n",
              "      <td>12-09-2013</td>\n",
              "      <td>3800000.0</td>\n",
              "      <td>/organization/zynstra</td>\n",
              "      <td>Zynstra</td>\n",
              "      <td>Software</td>\n",
              "      <td>operating</td>\n",
              "      <td>GBR</td>\n",
              "      <td>A4</td>\n",
              "      <td>Bath</td>\n",
              "      <td>Bath</td>\n",
              "      <td>Software</td>\n",
              "      <td>Others</td>\n",
              "    </tr>\n",
              "  </tbody>\n",
              "</table>\n",
              "<p>2055 rows × 15 columns</p>\n",
              "</div>"
            ],
            "text/plain": [
              "                   company_permalink  ...                              main_sector\n",
              "7      /organization/10-minutes-with  ...                                   Others\n",
              "123            /organization/31dover  ...                                   Others\n",
              "137          /ORGANIZATION/365SCORES  ...  Social, Finance, Analytics, Advertising\n",
              "138          /organization/365scores  ...  Social, Finance, Analytics, Advertising\n",
              "197               /organization/3sun  ...               Cleantech / Semiconductors\n",
              "...                              ...  ...                                      ...\n",
              "44303            /ORGANIZATION/ZUBKA  ...  Social, Finance, Analytics, Advertising\n",
              "44334            /ORGANIZATION/ZUTUX  ...                                   Others\n",
              "44364            /organization/zyncd  ...  Social, Finance, Analytics, Advertising\n",
              "44375          /organization/zynstra  ...                                   Others\n",
              "44376          /ORGANIZATION/ZYNSTRA  ...                                   Others\n",
              "\n",
              "[2055 rows x 15 columns]"
            ]
          },
          "metadata": {
            "tags": []
          },
          "execution_count": 177
        }
      ]
    },
    {
      "cell_type": "code",
      "metadata": {
        "id": "tuXcYghmczXx",
        "colab_type": "code",
        "outputId": "75de5aca-d596-4a20-eed2-7e53725f1b3a",
        "colab": {
          "base_uri": "https://localhost:8080/",
          "height": 606
        }
      },
      "source": [
        "D3=top9_df[top9_df['country_code']=='IND']\n",
        "D3"
      ],
      "execution_count": 178,
      "outputs": [
        {
          "output_type": "execute_result",
          "data": {
            "text/html": [
              "<div>\n",
              "<style scoped>\n",
              "    .dataframe tbody tr th:only-of-type {\n",
              "        vertical-align: middle;\n",
              "    }\n",
              "\n",
              "    .dataframe tbody tr th {\n",
              "        vertical-align: top;\n",
              "    }\n",
              "\n",
              "    .dataframe thead th {\n",
              "        text-align: right;\n",
              "    }\n",
              "</style>\n",
              "<table border=\"1\" class=\"dataframe\">\n",
              "  <thead>\n",
              "    <tr style=\"text-align: right;\">\n",
              "      <th></th>\n",
              "      <th>company_permalink</th>\n",
              "      <th>funding_round_permalink</th>\n",
              "      <th>funding_round_type</th>\n",
              "      <th>funded_at</th>\n",
              "      <th>raised_amount_usd</th>\n",
              "      <th>permalink</th>\n",
              "      <th>name</th>\n",
              "      <th>category_list_x</th>\n",
              "      <th>status</th>\n",
              "      <th>country_code</th>\n",
              "      <th>state_code</th>\n",
              "      <th>region</th>\n",
              "      <th>city</th>\n",
              "      <th>primary_sector</th>\n",
              "      <th>main_sector</th>\n",
              "    </tr>\n",
              "  </thead>\n",
              "  <tbody>\n",
              "    <tr>\n",
              "      <th>0</th>\n",
              "      <td>/organization/-fame</td>\n",
              "      <td>/funding-round/9a01d05418af9f794eebff7ace91f638</td>\n",
              "      <td>venture</td>\n",
              "      <td>05-01-2015</td>\n",
              "      <td>10000000.0</td>\n",
              "      <td>/organization/-fame</td>\n",
              "      <td>#fame</td>\n",
              "      <td>Media</td>\n",
              "      <td>operating</td>\n",
              "      <td>IND</td>\n",
              "      <td>16</td>\n",
              "      <td>Mumbai</td>\n",
              "      <td>Mumbai</td>\n",
              "      <td>Media</td>\n",
              "      <td>Entertainment</td>\n",
              "    </tr>\n",
              "    <tr>\n",
              "      <th>76</th>\n",
              "      <td>/ORGANIZATION/21DIAMONDS-INDIA</td>\n",
              "      <td>/funding-round/6de7ffef8091ba9f33821f4b861f434a</td>\n",
              "      <td>venture</td>\n",
              "      <td>15-11-2012</td>\n",
              "      <td>6369507.0</td>\n",
              "      <td>/organization/21diamonds-india</td>\n",
              "      <td>21Diamonds</td>\n",
              "      <td>E-Commerce</td>\n",
              "      <td>operating</td>\n",
              "      <td>IND</td>\n",
              "      <td>10</td>\n",
              "      <td>New Delhi</td>\n",
              "      <td>Gurgaon</td>\n",
              "      <td>E-Commerce</td>\n",
              "      <td>Others</td>\n",
              "    </tr>\n",
              "    <tr>\n",
              "      <th>90</th>\n",
              "      <td>/ORGANIZATION/247-LEARNING-PRIVATE</td>\n",
              "      <td>/funding-round/4cd5cd165bc869bc40705a9e4b626bee</td>\n",
              "      <td>venture</td>\n",
              "      <td>06-11-2007</td>\n",
              "      <td>4000000.0</td>\n",
              "      <td>/organization/247-learning-private</td>\n",
              "      <td>24x7 Learning</td>\n",
              "      <td>EdTech|Education|Systems</td>\n",
              "      <td>operating</td>\n",
              "      <td>IND</td>\n",
              "      <td>19</td>\n",
              "      <td>Bangalore</td>\n",
              "      <td>Bangalore</td>\n",
              "      <td>EdTech</td>\n",
              "      <td>Others</td>\n",
              "    </tr>\n",
              "    <tr>\n",
              "      <th>168</th>\n",
              "      <td>/ORGANIZATION/3DSOC</td>\n",
              "      <td>/funding-round/bbedf1410fddeed341018583bbd0ca1e</td>\n",
              "      <td>venture</td>\n",
              "      <td>01-12-2007</td>\n",
              "      <td>1240000.0</td>\n",
              "      <td>/organization/3dsoc</td>\n",
              "      <td>3DSoC</td>\n",
              "      <td>3D|Mobile</td>\n",
              "      <td>operating</td>\n",
              "      <td>IND</td>\n",
              "      <td>19</td>\n",
              "      <td>Bangalore</td>\n",
              "      <td>Bangalore</td>\n",
              "      <td>3D</td>\n",
              "      <td>Manufacturing</td>\n",
              "    </tr>\n",
              "    <tr>\n",
              "      <th>169</th>\n",
              "      <td>/organization/3dsoc</td>\n",
              "      <td>/funding-round/da8918e533a7caf0df0dc8d3f506c0f8</td>\n",
              "      <td>venture</td>\n",
              "      <td>01-08-2010</td>\n",
              "      <td>825000.0</td>\n",
              "      <td>/organization/3dsoc</td>\n",
              "      <td>3DSoC</td>\n",
              "      <td>3D|Mobile</td>\n",
              "      <td>operating</td>\n",
              "      <td>IND</td>\n",
              "      <td>19</td>\n",
              "      <td>Bangalore</td>\n",
              "      <td>Bangalore</td>\n",
              "      <td>3D</td>\n",
              "      <td>Manufacturing</td>\n",
              "    </tr>\n",
              "    <tr>\n",
              "      <th>...</th>\n",
              "      <td>...</td>\n",
              "      <td>...</td>\n",
              "      <td>...</td>\n",
              "      <td>...</td>\n",
              "      <td>...</td>\n",
              "      <td>...</td>\n",
              "      <td>...</td>\n",
              "      <td>...</td>\n",
              "      <td>...</td>\n",
              "      <td>...</td>\n",
              "      <td>...</td>\n",
              "      <td>...</td>\n",
              "      <td>...</td>\n",
              "      <td>...</td>\n",
              "      <td>...</td>\n",
              "    </tr>\n",
              "    <tr>\n",
              "      <th>44220</th>\n",
              "      <td>/ORGANIZATION/ZOOMCAR-INDIA</td>\n",
              "      <td>/funding-round/de560f3d008b7662d844e48fa1e467b3</td>\n",
              "      <td>venture</td>\n",
              "      <td>08-07-2015</td>\n",
              "      <td>11000000.0</td>\n",
              "      <td>/organization/zoomcar-india</td>\n",
              "      <td>ZoomCar</td>\n",
              "      <td>Automotive|Consumers|E-Commerce|Transportation</td>\n",
              "      <td>operating</td>\n",
              "      <td>IND</td>\n",
              "      <td>19</td>\n",
              "      <td>Bangalore</td>\n",
              "      <td>Bangalore</td>\n",
              "      <td>Automotive</td>\n",
              "      <td>Automotive &amp; Sports</td>\n",
              "    </tr>\n",
              "    <tr>\n",
              "      <th>44231</th>\n",
              "      <td>/organization/zoomo</td>\n",
              "      <td>/funding-round/473111947c0915402be71b8b61ec62f6</td>\n",
              "      <td>venture</td>\n",
              "      <td>02-07-2015</td>\n",
              "      <td>5000000.0</td>\n",
              "      <td>/organization/zoomo</td>\n",
              "      <td>Zoomo</td>\n",
              "      <td>Internet</td>\n",
              "      <td>operating</td>\n",
              "      <td>IND</td>\n",
              "      <td>19</td>\n",
              "      <td>Bangalore</td>\n",
              "      <td>Bangalore</td>\n",
              "      <td>Internet</td>\n",
              "      <td>News, Search and Messaging</td>\n",
              "    </tr>\n",
              "    <tr>\n",
              "      <th>44261</th>\n",
              "      <td>/ORGANIZATION/ZOPNOW</td>\n",
              "      <td>/funding-round/a0fa8c6ccaa3f11f3f0f196e03ff7449</td>\n",
              "      <td>venture</td>\n",
              "      <td>13-04-2015</td>\n",
              "      <td>10000000.0</td>\n",
              "      <td>/organization/zopnow</td>\n",
              "      <td>ZopNow</td>\n",
              "      <td>Groceries|Logistics</td>\n",
              "      <td>operating</td>\n",
              "      <td>IND</td>\n",
              "      <td>19</td>\n",
              "      <td>Bangalore</td>\n",
              "      <td>Bangalore</td>\n",
              "      <td>Groceries</td>\n",
              "      <td>Manufacturing</td>\n",
              "    </tr>\n",
              "    <tr>\n",
              "      <th>44262</th>\n",
              "      <td>/organization/zopper</td>\n",
              "      <td>/funding-round/aa92ee11012093420448630238e66a96</td>\n",
              "      <td>venture</td>\n",
              "      <td>04-06-2015</td>\n",
              "      <td>20000000.0</td>\n",
              "      <td>/organization/zopper</td>\n",
              "      <td>Zopper</td>\n",
              "      <td>Mobile</td>\n",
              "      <td>operating</td>\n",
              "      <td>IND</td>\n",
              "      <td>36</td>\n",
              "      <td>New Delhi</td>\n",
              "      <td>Noida</td>\n",
              "      <td>Mobile</td>\n",
              "      <td>News, Search and Messaging</td>\n",
              "    </tr>\n",
              "    <tr>\n",
              "      <th>44268</th>\n",
              "      <td>/ORGANIZATION/ZOSTEL</td>\n",
              "      <td>/funding-round/643e18803ad20ec51c6232697ad6d668</td>\n",
              "      <td>venture</td>\n",
              "      <td>13-05-2014</td>\n",
              "      <td>1000000.0</td>\n",
              "      <td>/organization/zostel</td>\n",
              "      <td>Zostel</td>\n",
              "      <td>E-Commerce</td>\n",
              "      <td>operating</td>\n",
              "      <td>IND</td>\n",
              "      <td>24</td>\n",
              "      <td>Jaipur</td>\n",
              "      <td>Jaipur</td>\n",
              "      <td>E-Commerce</td>\n",
              "      <td>Others</td>\n",
              "    </tr>\n",
              "  </tbody>\n",
              "</table>\n",
              "<p>824 rows × 15 columns</p>\n",
              "</div>"
            ],
            "text/plain": [
              "                        company_permalink  ...                 main_sector\n",
              "0                     /organization/-fame  ...               Entertainment\n",
              "76         /ORGANIZATION/21DIAMONDS-INDIA  ...                      Others\n",
              "90     /ORGANIZATION/247-LEARNING-PRIVATE  ...                      Others\n",
              "168                   /ORGANIZATION/3DSOC  ...               Manufacturing\n",
              "169                   /organization/3dsoc  ...               Manufacturing\n",
              "...                                   ...  ...                         ...\n",
              "44220         /ORGANIZATION/ZOOMCAR-INDIA  ...         Automotive & Sports\n",
              "44231                 /organization/zoomo  ...  News, Search and Messaging\n",
              "44261                /ORGANIZATION/ZOPNOW  ...               Manufacturing\n",
              "44262                /organization/zopper  ...  News, Search and Messaging\n",
              "44268                /ORGANIZATION/ZOSTEL  ...                      Others\n",
              "\n",
              "[824 rows x 15 columns]"
            ]
          },
          "metadata": {
            "tags": []
          },
          "execution_count": 178
        }
      ]
    },
    {
      "cell_type": "markdown",
      "metadata": {
        "id": "QuBRGkKadCuW",
        "colab_type": "text"
      },
      "source": [
        "The total number of investment done in USA"
      ]
    },
    {
      "cell_type": "markdown",
      "metadata": {
        "id": "qU1NjISwNryS",
        "colab_type": "text"
      },
      "source": [
        "## USA based analysis"
      ]
    },
    {
      "cell_type": "markdown",
      "metadata": {
        "id": "sm-hV3HDOPEW",
        "colab_type": "text"
      },
      "source": [
        "To find the count of investment done in usa in our preffered range"
      ]
    },
    {
      "cell_type": "code",
      "metadata": {
        "id": "_gVlbKM0c5hs",
        "colab_type": "code",
        "outputId": "ead58374-210c-4d06-c784-b81c2a6e338c",
        "colab": {
          "base_uri": "https://localhost:8080/",
          "height": 33
        }
      },
      "source": [
        "D1=D1[(D1['raised_amount_usd']>=5000000) & (D1['raised_amount_usd']<=15000000) ]\n",
        "D1.shape"
      ],
      "execution_count": 179,
      "outputs": [
        {
          "output_type": "execute_result",
          "data": {
            "text/plain": [
              "(12150, 15)"
            ]
          },
          "metadata": {
            "tags": []
          },
          "execution_count": 179
        }
      ]
    },
    {
      "cell_type": "markdown",
      "metadata": {
        "id": "UxagAXpcOWa7",
        "colab_type": "text"
      },
      "source": [
        "Total investment"
      ]
    },
    {
      "cell_type": "code",
      "metadata": {
        "id": "AcDOrLkih4rR",
        "colab_type": "code",
        "outputId": "42685ef9-1e77-45a3-ad64-7f9d8dc3e308",
        "colab": {
          "base_uri": "https://localhost:8080/",
          "height": 33
        }
      },
      "source": [
        "D1.raised_amount_usd.sum()"
      ],
      "execution_count": 180,
      "outputs": [
        {
          "output_type": "execute_result",
          "data": {
            "text/plain": [
              "108531347515.0"
            ]
          },
          "metadata": {
            "tags": []
          },
          "execution_count": 180
        }
      ]
    },
    {
      "cell_type": "markdown",
      "metadata": {
        "id": "Xxd3FBluOZEf",
        "colab_type": "text"
      },
      "source": [
        "Next 3 cells have to analysis of top 3 sector in the country."
      ]
    },
    {
      "cell_type": "code",
      "metadata": {
        "id": "BNrEU-ZXltwl",
        "colab_type": "code",
        "outputId": "ace6efe8-58ac-4d3b-bb5a-df83f43a239a",
        "colab": {
          "base_uri": "https://localhost:8080/",
          "height": 131
        }
      },
      "source": [
        "D1.groupby('main_sector').raised_amount_usd.count().sort_values(ascending=False).head()"
      ],
      "execution_count": 181,
      "outputs": [
        {
          "output_type": "execute_result",
          "data": {
            "text/plain": [
              "main_sector\n",
              "Others                                     2950\n",
              "Social, Finance, Analytics, Advertising    2714\n",
              "Cleantech / Semiconductors                 2300\n",
              "News, Search and Messaging                 1582\n",
              "Health                                      909\n",
              "Name: raised_amount_usd, dtype: int64"
            ]
          },
          "metadata": {
            "tags": []
          },
          "execution_count": 181
        }
      ]
    },
    {
      "cell_type": "code",
      "metadata": {
        "id": "9XgvrsITm5Ov",
        "colab_type": "code",
        "outputId": "b1af3b56-47fb-4eab-d28c-045337f82dc2",
        "colab": {
          "base_uri": "https://localhost:8080/",
          "height": 131
        }
      },
      "source": [
        "D1[D1['main_sector']=='Others'].groupby(['main_sector','permalink']).raised_amount_usd.sum().sort_values(ascending=False).head()"
      ],
      "execution_count": 182,
      "outputs": [
        {
          "output_type": "execute_result",
          "data": {
            "text/plain": [
              "main_sector  permalink                        \n",
              "Others       /organization/virtustream            64300000.0\n",
              "             /organization/capella                54968051.0\n",
              "             /organization/airtight-networks      54201907.0\n",
              "             /organization/decarta                52100000.0\n",
              "             /organization/black-duck-software    51000000.0\n",
              "Name: raised_amount_usd, dtype: float64"
            ]
          },
          "metadata": {
            "tags": []
          },
          "execution_count": 182
        }
      ]
    },
    {
      "cell_type": "code",
      "metadata": {
        "colab_type": "code",
        "outputId": "f3f5d742-6de9-4624-d35e-cfb62ccad0ea",
        "id": "nnCiXCQwniY4",
        "colab": {
          "base_uri": "https://localhost:8080/",
          "height": 131
        }
      },
      "source": [
        "D1[D1['main_sector']=='Social, Finance, Analytics, Advertising'].groupby(['main_sector','permalink']).raised_amount_usd.sum().sort_values(ascending=False).head()"
      ],
      "execution_count": 183,
      "outputs": [
        {
          "output_type": "execute_result",
          "data": {
            "text/plain": [
              "main_sector                              permalink                \n",
              "Social, Finance, Analytics, Advertising  /organization/shotspotter    67933006.0\n",
              "                                         /organization/demandbase     63000000.0\n",
              "                                         /organization/intacct        61800000.0\n",
              "                                         /organization/netbase        60600000.0\n",
              "                                         /organization/lotame         59700000.0\n",
              "Name: raised_amount_usd, dtype: float64"
            ]
          },
          "metadata": {
            "tags": []
          },
          "execution_count": 183
        }
      ]
    },
    {
      "cell_type": "code",
      "metadata": {
        "id": "RdlNnfa3nlDJ",
        "colab_type": "code",
        "outputId": "36841564-9d0e-414c-a43d-2fd060478a9f",
        "colab": {
          "base_uri": "https://localhost:8080/",
          "height": 131
        }
      },
      "source": [
        "D1[D1['main_sector']=='Cleantech / Semiconductors'].groupby(['main_sector','permalink']).raised_amount_usd.sum().sort_values(ascending=False).head()"
      ],
      "execution_count": 184,
      "outputs": [
        {
          "output_type": "execute_result",
          "data": {
            "text/plain": [
              "main_sector                 permalink                  \n",
              "Cleantech / Semiconductors  /organization/biodesix         75300000.0\n",
              "                            /organization/tigo-energy      68739496.0\n",
              "                            /organization/forsight-labs    61300001.0\n",
              "                            /organization/rheonix          56124758.0\n",
              "                            /organization/scienergy        55375423.0\n",
              "Name: raised_amount_usd, dtype: float64"
            ]
          },
          "metadata": {
            "tags": []
          },
          "execution_count": 184
        }
      ]
    },
    {
      "cell_type": "markdown",
      "metadata": {
        "id": "h-60LgENNvbX",
        "colab_type": "text"
      },
      "source": [
        "## GRB based analysis"
      ]
    },
    {
      "cell_type": "markdown",
      "metadata": {
        "id": "qLUbw4qaOz9Q",
        "colab_type": "text"
      },
      "source": [
        "To find the count of investment done in GRB in our preffered range"
      ]
    },
    {
      "cell_type": "code",
      "metadata": {
        "id": "ByEIOZXdfL4x",
        "colab_type": "code",
        "outputId": "5d220745-2090-4fb5-ebea-14e7ba0c3729",
        "colab": {
          "base_uri": "https://localhost:8080/",
          "height": 33
        }
      },
      "source": [
        "D2=D2[(D2['raised_amount_usd']>=5000000) & (D2['raised_amount_usd']<=15000000) ]\n",
        "D2.shape"
      ],
      "execution_count": 185,
      "outputs": [
        {
          "output_type": "execute_result",
          "data": {
            "text/plain": [
              "(628, 15)"
            ]
          },
          "metadata": {
            "tags": []
          },
          "execution_count": 185
        }
      ]
    },
    {
      "cell_type": "code",
      "metadata": {
        "id": "QEmxgkZKh_Ea",
        "colab_type": "code",
        "outputId": "30c43388-47f9-441b-9261-f54b4a4c82c1",
        "colab": {
          "base_uri": "https://localhost:8080/",
          "height": 33
        }
      },
      "source": [
        "D2.raised_amount_usd.sum()"
      ],
      "execution_count": 186,
      "outputs": [
        {
          "output_type": "execute_result",
          "data": {
            "text/plain": [
              "5436843539.0"
            ]
          },
          "metadata": {
            "tags": []
          },
          "execution_count": 186
        }
      ]
    },
    {
      "cell_type": "code",
      "metadata": {
        "id": "mj_wQGIxmdd3",
        "colab_type": "code",
        "outputId": "d00bc5ab-86e1-4bfd-91a4-d949a585ad7f",
        "colab": {
          "base_uri": "https://localhost:8080/",
          "height": 131
        }
      },
      "source": [
        "D2.groupby('main_sector').raised_amount_usd.count().sort_values(ascending=False).head()"
      ],
      "execution_count": 187,
      "outputs": [
        {
          "output_type": "execute_result",
          "data": {
            "text/plain": [
              "main_sector\n",
              "Others                                     147\n",
              "Social, Finance, Analytics, Advertising    133\n",
              "Cleantech / Semiconductors                 128\n",
              "News, Search and Messaging                  73\n",
              "Entertainment                               56\n",
              "Name: raised_amount_usd, dtype: int64"
            ]
          },
          "metadata": {
            "tags": []
          },
          "execution_count": 187
        }
      ]
    },
    {
      "cell_type": "markdown",
      "metadata": {
        "id": "_1qjbPl7O8gm",
        "colab_type": "text"
      },
      "source": [
        "Next 3 cells have to analysis of top 3 sector in the country."
      ]
    },
    {
      "cell_type": "code",
      "metadata": {
        "id": "3G9rR9PtntTD",
        "colab_type": "code",
        "outputId": "88876f4a-f2d6-4326-f137-2b93b92f01ad",
        "colab": {
          "base_uri": "https://localhost:8080/",
          "height": 131
        }
      },
      "source": [
        "D2[D2['main_sector']=='Others'].groupby(['main_sector','permalink']).raised_amount_usd.sum().sort_values(ascending=False).head()"
      ],
      "execution_count": 188,
      "outputs": [
        {
          "output_type": "execute_result",
          "data": {
            "text/plain": [
              "main_sector  permalink                            \n",
              "Others       /organization/electric-cloud             37000000.0\n",
              "             /organization/sensage                    36250000.0\n",
              "             /organization/enigmatic                  32500000.0\n",
              "             /organization/silverrail-technologies    29000000.0\n",
              "             /organization/opencloud                  27972766.0\n",
              "Name: raised_amount_usd, dtype: float64"
            ]
          },
          "metadata": {
            "tags": []
          },
          "execution_count": 188
        }
      ]
    },
    {
      "cell_type": "code",
      "metadata": {
        "id": "4MmyRCQsnxAG",
        "colab_type": "code",
        "outputId": "ff659623-a25a-49ca-ce78-3d8330f5851d",
        "colab": {
          "base_uri": "https://localhost:8080/",
          "height": 131
        }
      },
      "source": [
        "D2[D2['main_sector']=='Social, Finance, Analytics, Advertising'].groupby(['main_sector','permalink']).raised_amount_usd.sum().sort_values(ascending=False).head()"
      ],
      "execution_count": 189,
      "outputs": [
        {
          "output_type": "execute_result",
          "data": {
            "text/plain": [
              "main_sector                              permalink                          \n",
              "Social, Finance, Analytics, Advertising  /organization/celltick-technologies    37500000.0\n",
              "                                         /organization/mythings                 34000000.0\n",
              "                                         /organization/zopa                     32900000.0\n",
              "                                         /organization/imagini                  28550000.0\n",
              "                                         /organization/marketinvoice            25553007.0\n",
              "Name: raised_amount_usd, dtype: float64"
            ]
          },
          "metadata": {
            "tags": []
          },
          "execution_count": 189
        }
      ]
    },
    {
      "cell_type": "code",
      "metadata": {
        "id": "E2SpixmnnyVR",
        "colab_type": "code",
        "outputId": "1980da9f-5af5-4932-98e3-a338981c209e",
        "colab": {
          "base_uri": "https://localhost:8080/",
          "height": 131
        }
      },
      "source": [
        "D2[D2['main_sector']=='Cleantech / Semiconductors'].groupby(['main_sector','permalink']).raised_amount_usd.sum().sort_values(ascending=False).head()"
      ],
      "execution_count": 190,
      "outputs": [
        {
          "output_type": "execute_result",
          "data": {
            "text/plain": [
              "main_sector                 permalink                                                                  \n",
              "Cleantech / Semiconductors  /organization/eusa-pharma                                                      35600000.0\n",
              "                            /organization/horizon-discovery                                                31353719.0\n",
              "                            /organization/f-star-biotechnologische-forschungs-und-entwicklungsges-m-b-h    29132906.0\n",
              "                            /organization/elixent                                                          25000000.0\n",
              "                            /organization/takeda-cambridge                                                 22340000.0\n",
              "Name: raised_amount_usd, dtype: float64"
            ]
          },
          "metadata": {
            "tags": []
          },
          "execution_count": 190
        }
      ]
    },
    {
      "cell_type": "markdown",
      "metadata": {
        "id": "bvdsAsyKNynh",
        "colab_type": "text"
      },
      "source": [
        "## IND based analysis"
      ]
    },
    {
      "cell_type": "code",
      "metadata": {
        "id": "HWMHigB8fS6W",
        "colab_type": "code",
        "outputId": "37859d0b-1672-44a5-b946-75a46a352c9c",
        "colab": {
          "base_uri": "https://localhost:8080/",
          "height": 33
        }
      },
      "source": [
        "D3=D3[(D3['raised_amount_usd']>=5000000) & (D3['raised_amount_usd']<=15000000) ]\n",
        "D3.shape"
      ],
      "execution_count": 191,
      "outputs": [
        {
          "output_type": "execute_result",
          "data": {
            "text/plain": [
              "(330, 15)"
            ]
          },
          "metadata": {
            "tags": []
          },
          "execution_count": 191
        }
      ]
    },
    {
      "cell_type": "code",
      "metadata": {
        "id": "Tigf396IiAMD",
        "colab_type": "code",
        "outputId": "4b1cf82f-cfcd-4f78-eb34-372bb70cd62e",
        "colab": {
          "base_uri": "https://localhost:8080/",
          "height": 33
        }
      },
      "source": [
        "D3.raised_amount_usd.sum()"
      ],
      "execution_count": 192,
      "outputs": [
        {
          "output_type": "execute_result",
          "data": {
            "text/plain": [
              "2976543602.0"
            ]
          },
          "metadata": {
            "tags": []
          },
          "execution_count": 192
        }
      ]
    },
    {
      "cell_type": "code",
      "metadata": {
        "id": "ItqRQQyAmg7u",
        "colab_type": "code",
        "outputId": "5bdf1a9a-3ddc-4ffc-8ea1-b7f67c39306c",
        "colab": {
          "base_uri": "https://localhost:8080/",
          "height": 131
        }
      },
      "source": [
        "D3.groupby('main_sector').raised_amount_usd.count().sort_values(ascending=False).head()"
      ],
      "execution_count": 193,
      "outputs": [
        {
          "output_type": "execute_result",
          "data": {
            "text/plain": [
              "main_sector\n",
              "Others                                     110\n",
              "Social, Finance, Analytics, Advertising     60\n",
              "News, Search and Messaging                  52\n",
              "Entertainment                               33\n",
              "Manufacturing                               21\n",
              "Name: raised_amount_usd, dtype: int64"
            ]
          },
          "metadata": {
            "tags": []
          },
          "execution_count": 193
        }
      ]
    },
    {
      "cell_type": "markdown",
      "metadata": {
        "id": "x4TK17iUO--o",
        "colab_type": "text"
      },
      "source": [
        "Next 3 cells have to analysis of top 3 sector in the country."
      ]
    },
    {
      "cell_type": "code",
      "metadata": {
        "id": "bA4Qca1RoDDO",
        "colab_type": "code",
        "outputId": "4adfca64-16a3-49c7-fc51-96f4909c8afc",
        "colab": {
          "base_uri": "https://localhost:8080/",
          "height": 131
        }
      },
      "source": [
        "D3[D3['main_sector']=='Others'].groupby(['main_sector','permalink']).raised_amount_usd.sum().sort_values(ascending=False).head()"
      ],
      "execution_count": 194,
      "outputs": [
        {
          "output_type": "execute_result",
          "data": {
            "text/plain": [
              "main_sector  permalink                     \n",
              "Others       /organization/firstcry-com        39000000.0\n",
              "             /organization/myntra              38000000.0\n",
              "             /organization/commonfloor         32900000.0\n",
              "             /organization/pepperfry-com       28000000.0\n",
              "             /organization/itzcash-card-ltd    25000000.0\n",
              "Name: raised_amount_usd, dtype: float64"
            ]
          },
          "metadata": {
            "tags": []
          },
          "execution_count": 194
        }
      ]
    },
    {
      "cell_type": "code",
      "metadata": {
        "id": "ZZUNUqc2oIt6",
        "colab_type": "code",
        "outputId": "1c872373-96c4-460b-f716-4d84f8b37f34",
        "colab": {
          "base_uri": "https://localhost:8080/",
          "height": 131
        }
      },
      "source": [
        "D3[D3['main_sector']=='Social, Finance, Analytics, Advertising'].groupby(['main_sector','permalink']).raised_amount_usd.sum().sort_values(ascending=False).head()"
      ],
      "execution_count": 195,
      "outputs": [
        {
          "output_type": "execute_result",
          "data": {
            "text/plain": [
              "main_sector                              permalink                               \n",
              "Social, Finance, Analytics, Advertising  /organization/manthan-systems               50700000.0\n",
              "                                         /organization/komli-media                   28000000.0\n",
              "                                         /organization/shopclues-com                 25000000.0\n",
              "                                         /organization/intarvo                       21900000.0\n",
              "                                         /organization/grameen-financial-services    21556050.0\n",
              "Name: raised_amount_usd, dtype: float64"
            ]
          },
          "metadata": {
            "tags": []
          },
          "execution_count": 195
        }
      ]
    },
    {
      "cell_type": "code",
      "metadata": {
        "id": "5LUx5sYhoJUQ",
        "colab_type": "code",
        "outputId": "58bf4fbc-e279-4d93-befa-4e323c923380",
        "colab": {
          "base_uri": "https://localhost:8080/",
          "height": 131
        }
      },
      "source": [
        "D3[D3['main_sector']=='News, Search and Messaging'].groupby(['main_sector','permalink']).raised_amount_usd.sum().sort_values(ascending=False).head()"
      ],
      "execution_count": 196,
      "outputs": [
        {
          "output_type": "execute_result",
          "data": {
            "text/plain": [
              "main_sector                 permalink                                     \n",
              "News, Search and Messaging  /organization/gupshup-technology-india-pvt-ltd    33000000.0\n",
              "                            /organization/imimobile                           23000000.0\n",
              "                            /organization/sms-gupshup                         22000000.0\n",
              "                            /organization/hike                                21000000.0\n",
              "                            /organization/roadrunnr                           21000000.0\n",
              "Name: raised_amount_usd, dtype: float64"
            ]
          },
          "metadata": {
            "tags": []
          },
          "execution_count": 196
        }
      ]
    },
    {
      "cell_type": "markdown",
      "metadata": {
        "id": "ovHNkZoKjrUf",
        "colab_type": "text"
      },
      "source": [
        "# **CheckPoint 6:**  _$ Plots $_"
      ]
    },
    {
      "cell_type": "code",
      "metadata": {
        "id": "BdL1YkIbj2bS",
        "colab_type": "code",
        "colab": {}
      },
      "source": [
        "import matplotlib.pyplot as plt\n",
        "import seaborn as sns"
      ],
      "execution_count": 0,
      "outputs": []
    },
    {
      "cell_type": "markdown",
      "metadata": {
        "id": "nqGZ_UTSPNvo",
        "colab_type": "text"
      },
      "source": [
        "Here we modify the master_frame in a way to faciltate us to plot our data. "
      ]
    },
    {
      "cell_type": "code",
      "metadata": {
        "id": "7-mWaU1gvvTQ",
        "colab_type": "code",
        "colab": {}
      },
      "source": [
        "x=master_frame[master_frame['funding_round_type'].isin(['venture','seed','private_equity'])]"
      ],
      "execution_count": 0,
      "outputs": []
    },
    {
      "cell_type": "markdown",
      "metadata": {
        "id": "cNsrBI1-PtnD",
        "colab_type": "text"
      },
      "source": [
        "## BAR graph"
      ]
    },
    {
      "cell_type": "code",
      "metadata": {
        "id": "bY1glA5apIlQ",
        "colab_type": "code",
        "outputId": "10ed1148-f4e1-47e6-e338-e0d8d29adcf9",
        "colab": {
          "base_uri": "https://localhost:8080/",
          "height": 363
        }
      },
      "source": [
        "plt.figure(figsize=(10,5))\n",
        "g=sns.barplot(x='funding_round_type', y='raised_amount_usd', data=x)\n",
        "g.set(xlabel='Funding Type', ylabel='Raised Amount')\n",
        "g.set_title('Funding Type Analysis',fontsize =30)\n",
        "plt.axhline(5000000, color='Black')\n",
        "plt.axhline(15000000, color='red')\n",
        "plt.show()\n"
      ],
      "execution_count": 199,
      "outputs": [
        {
          "output_type": "display_data",
          "data": {
            "image/png": "[encoded data removed]",
            "text/plain": [
              "<Figure size 720x360 with 1 Axes>"
            ]
          },
          "metadata": {
            "tags": []
          }
        }
      ]
    },
    {
      "cell_type": "markdown",
      "metadata": {
        "id": "uHGP4Y4iP2RK",
        "colab_type": "text"
      },
      "source": [
        "PLotting the funding amount for each of the top 9 countries."
      ]
    },
    {
      "cell_type": "code",
      "metadata": {
        "id": "CyGF1P7ewqq7",
        "colab_type": "code",
        "colab": {}
      },
      "source": [
        "x=master_frame[master_frame['country_code'].isin(top9.index)]"
      ],
      "execution_count": 0,
      "outputs": []
    },
    {
      "cell_type": "code",
      "metadata": {
        "id": "j0YTy0EcwJXe",
        "colab_type": "code",
        "outputId": "6f510436-8236-495c-e6f9-3f250353aed7",
        "colab": {
          "base_uri": "https://localhost:8080/",
          "height": 353
        }
      },
      "source": [
        "plt.figure(figsize=(10,5))\n",
        "c=sns.barplot(x='country_code', y='raised_amount_usd', data=x, estimator=np.sum,color=(0.2, 0.4, 0.7, 0.6))\n",
        "#c.set_ylim(0, 100000000000)\n",
        "c.set_yscale('log')\n",
        "c.set(xlabel='Funding Type', ylabel='Raised Amount')\n",
        "c.set_title('Country Analysis',fontsize =18)\n",
        "plt.show()"
      ],
      "execution_count": 201,
      "outputs": [
        {
          "output_type": "display_data",
          "data": {
            "image/png": "[encoded data removed]",
            "text/plain": [
              "<Figure size 720x360 with 1 Axes>"
            ]
          },
          "metadata": {
            "tags": []
          }
        }
      ]
    },
    {
      "cell_type": "code",
      "metadata": {
        "id": "AE_pS1-1xTM0",
        "colab_type": "code",
        "colab": {}
      },
      "source": [
        "D=D1[D1['main_sector'].isin(['Others','Social, Finance, Analytics, Advertising','Cleantech / Semiconductors'])]\n",
        "D=D.append(D2[D2['main_sector'].isin(['Others','Social, Finance, Analytics, Advertising','Cleantech / Semiconductors'])], ignore_index=True)\n",
        "D=D.append(D3[D3['main_sector'].isin(['Others','Social, Finance, Analytics, Advertising','News, Search and Messaging'])], ignore_index=True)"
      ],
      "execution_count": 0,
      "outputs": []
    },
    {
      "cell_type": "code",
      "metadata": {
        "id": "TrmP_M2exgNu",
        "colab_type": "code",
        "outputId": "fd1abb14-d00a-4714-94f8-e7b43f354ed4",
        "colab": {
          "base_uri": "https://localhost:8080/",
          "height": 570
        }
      },
      "source": [
        "plt.figure(num=None, figsize=(12, 8), dpi=80, facecolor='w', edgecolor='k')\n",
        "\n",
        "s=sns.barplot(x='country_code', y='raised_amount_usd', hue=\"main_sector\", data=D,estimator=lambda x:len(x))\n",
        "s.set(xlabel='Country', ylabel='Number of Investments')\n",
        "s.set_title('Investments in top3 sectors of top 3 countries',fontsize =18)\n",
        "plt.show()"
      ],
      "execution_count": 203,
      "outputs": [
        {
          "output_type": "display_data",
          "data": {
            "image/png": "[encoded data removed]",
            "text/plain": [
              "<Figure size 960x640 with 1 Axes>"
            ]
          },
          "metadata": {
            "tags": []
          }
        }
      ]
    }
  ]
}